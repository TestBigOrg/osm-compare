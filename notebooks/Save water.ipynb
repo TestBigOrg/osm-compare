{
 "cells": [
  {
   "cell_type": "markdown",
   "metadata": {},
   "source": [
    "# Save Water"
   ]
  },
  {
   "cell_type": "markdown",
   "metadata": {},
   "source": [
    "*NOTE: Focusing on just the lakes in the US for all the analysis below.*"
   ]
  },
  {
   "cell_type": "markdown",
   "metadata": {},
   "source": [
    "## Goals\n",
    "- Given the lake that was created in the middle on Manhattan can we identify other similar looking lakes?\n",
    "- The big picture being, given a harmful feature, can we identify similar features on OpenStreetMap and are they harmful in nature?"
   ]
  },
  {
   "cell_type": "markdown",
   "metadata": {},
   "source": [
    "## Data\n",
    "\n",
    "Geojson of the harmful lake in the middle of Manhattan.\n",
    "```json\n",
    "{\"type\":\"Feature\",\"id\":\"way!481252780!2\",\"properties\":{\"natural\":\"water\",\"water\":\"lake\",\"osm:type\":\"way\",\"osm:id\":481252780,\"osm:version\":2,\"osm:changeset\":47005897,\"osm:timestamp\":1490000491000,\"osm:uid\":3479270,\"osm:user\":\"nammala\"},\"geometry\":{\"type\":\"MultiPolygon\",\"coordinates\":[[[[-74.006621,40.736432],[-74.0082566,40.7361974],[-74.008322,40.736188],[-74.0082979,40.7364619],[-74.008254,40.736961],[-74.006498,40.736957],[-74.006621,40.736432]]]]},\"deleted\":true}\n",
    "```"
   ]
  },
  {
   "cell_type": "markdown",
   "metadata": {},
   "source": [
    "## Features\n",
    "\n",
    "### Analysis complete\n",
    "- Area of the feature\n",
    "- Number of nodes in the feature geometry\n",
    "- Percentage of bbox covered by the feature\n",
    "- Total number of user changesets \\ features\n",
    "- Does the feature have a name\n",
    "\n",
    "### Analysis to do\n",
    "- Type of the feature (node | way | relation)\n",
    "- Has Wikipedia or Wikidata\n",
    "- When was it created\n",
    "- Number of primary tags\n",
    "- What and the number of other tags\n",
    "- Number of name translations"
   ]
  },
  {
   "cell_type": "code",
   "execution_count": 1,
   "metadata": {
    "collapsed": true
   },
   "outputs": [],
   "source": [
    "%matplotlib inline\n",
    "%config InlineBackend.figure_format = 'retina'\n",
    "\n",
    "import warnings\n",
    "warnings.filterwarnings(\"ignore\")"
   ]
  },
  {
   "cell_type": "code",
   "execution_count": 2,
   "metadata": {
    "collapsed": true
   },
   "outputs": [],
   "source": [
    "import pandas as pd\n",
    "import numpy as np\n",
    "import matplotlib.pyplot as plt\n",
    "import seaborn as sns\n",
    "\n",
    "from sklearn import preprocessing\n",
    "from sklearn import ensemble"
   ]
  },
  {
   "cell_type": "code",
   "execution_count": 3,
   "metadata": {
    "collapsed": true
   },
   "outputs": [],
   "source": [
    "def get_length_of_name(name):\n",
    "    if pd.isnull(name):\n",
    "        return 0\n",
    "    return len(name)"
   ]
  },
  {
   "cell_type": "code",
   "execution_count": 4,
   "metadata": {
    "collapsed": false
   },
   "outputs": [
    {
     "name": "stdout",
     "output_type": "stream",
     "text": [
      "(16804, 15)\n"
     ]
    },
    {
     "data": {
      "text/html": [
       "<div>\n",
       "<table border=\"1\" class=\"dataframe\">\n",
       "  <thead>\n",
       "    <tr style=\"text-align: right;\">\n",
       "      <th></th>\n",
       "      <th>feature_id</th>\n",
       "      <th>feature_type</th>\n",
       "      <th>feature_version</th>\n",
       "      <th>feature_area</th>\n",
       "      <th>feature_coordinates</th>\n",
       "      <th>feature_bbox_area</th>\n",
       "      <th>name</th>\n",
       "      <th>changeset_id</th>\n",
       "      <th>changeset_timestamp</th>\n",
       "      <th>user_id</th>\n",
       "      <th>user_name</th>\n",
       "      <th>user_changesets</th>\n",
       "      <th>user_features</th>\n",
       "      <th>feature_bbox_percentage</th>\n",
       "      <th>name_length</th>\n",
       "    </tr>\n",
       "  </thead>\n",
       "  <tbody>\n",
       "    <tr>\n",
       "      <th>0</th>\n",
       "      <td>369314189</td>\n",
       "      <td>way</td>\n",
       "      <td>1</td>\n",
       "      <td>436663.24</td>\n",
       "      <td>44</td>\n",
       "      <td>675092.62</td>\n",
       "      <td>NaN</td>\n",
       "      <td>33823708</td>\n",
       "      <td>1441496842</td>\n",
       "      <td>3136691</td>\n",
       "      <td>Sonbelly</td>\n",
       "      <td>333.0</td>\n",
       "      <td>33900.0</td>\n",
       "      <td>0.646820</td>\n",
       "      <td>0</td>\n",
       "    </tr>\n",
       "    <tr>\n",
       "      <th>1</th>\n",
       "      <td>369314235</td>\n",
       "      <td>way</td>\n",
       "      <td>1</td>\n",
       "      <td>58240.41</td>\n",
       "      <td>13</td>\n",
       "      <td>89178.33</td>\n",
       "      <td>NaN</td>\n",
       "      <td>33823726</td>\n",
       "      <td>1441497047</td>\n",
       "      <td>3136691</td>\n",
       "      <td>Sonbelly</td>\n",
       "      <td>333.0</td>\n",
       "      <td>33900.0</td>\n",
       "      <td>0.653078</td>\n",
       "      <td>0</td>\n",
       "    </tr>\n",
       "    <tr>\n",
       "      <th>2</th>\n",
       "      <td>463110750</td>\n",
       "      <td>way</td>\n",
       "      <td>1</td>\n",
       "      <td>314065.63</td>\n",
       "      <td>83</td>\n",
       "      <td>636780.56</td>\n",
       "      <td>NaN</td>\n",
       "      <td>44828454</td>\n",
       "      <td>1483296754</td>\n",
       "      <td>3136691</td>\n",
       "      <td>Sonbelly</td>\n",
       "      <td>333.0</td>\n",
       "      <td>33900.0</td>\n",
       "      <td>0.493209</td>\n",
       "      <td>0</td>\n",
       "    </tr>\n",
       "    <tr>\n",
       "      <th>3</th>\n",
       "      <td>463113664</td>\n",
       "      <td>way</td>\n",
       "      <td>1</td>\n",
       "      <td>188710.26</td>\n",
       "      <td>36</td>\n",
       "      <td>387233.10</td>\n",
       "      <td>NaN</td>\n",
       "      <td>44828881</td>\n",
       "      <td>1483298439</td>\n",
       "      <td>3136691</td>\n",
       "      <td>Sonbelly</td>\n",
       "      <td>333.0</td>\n",
       "      <td>33900.0</td>\n",
       "      <td>0.487330</td>\n",
       "      <td>0</td>\n",
       "    </tr>\n",
       "    <tr>\n",
       "      <th>4</th>\n",
       "      <td>365998077</td>\n",
       "      <td>way</td>\n",
       "      <td>1</td>\n",
       "      <td>16203.76</td>\n",
       "      <td>13</td>\n",
       "      <td>25290.68</td>\n",
       "      <td>NaN</td>\n",
       "      <td>33371934</td>\n",
       "      <td>1439739482</td>\n",
       "      <td>3136691</td>\n",
       "      <td>Sonbelly</td>\n",
       "      <td>333.0</td>\n",
       "      <td>33900.0</td>\n",
       "      <td>0.640701</td>\n",
       "      <td>0</td>\n",
       "    </tr>\n",
       "  </tbody>\n",
       "</table>\n",
       "</div>"
      ],
      "text/plain": [
       "   feature_id feature_type  feature_version  feature_area  \\\n",
       "0   369314189          way                1     436663.24   \n",
       "1   369314235          way                1      58240.41   \n",
       "2   463110750          way                1     314065.63   \n",
       "3   463113664          way                1     188710.26   \n",
       "4   365998077          way                1      16203.76   \n",
       "\n",
       "   feature_coordinates  feature_bbox_area name  changeset_id  \\\n",
       "0                   44          675092.62  NaN      33823708   \n",
       "1                   13           89178.33  NaN      33823726   \n",
       "2                   83          636780.56  NaN      44828454   \n",
       "3                   36          387233.10  NaN      44828881   \n",
       "4                   13           25290.68  NaN      33371934   \n",
       "\n",
       "   changeset_timestamp  user_id user_name  user_changesets  user_features  \\\n",
       "0           1441496842  3136691  Sonbelly            333.0        33900.0   \n",
       "1           1441497047  3136691  Sonbelly            333.0        33900.0   \n",
       "2           1483296754  3136691  Sonbelly            333.0        33900.0   \n",
       "3           1483298439  3136691  Sonbelly            333.0        33900.0   \n",
       "4           1439739482  3136691  Sonbelly            333.0        33900.0   \n",
       "\n",
       "   feature_bbox_percentage  name_length  \n",
       "0                 0.646820            0  \n",
       "1                 0.653078            0  \n",
       "2                 0.493209            0  \n",
       "3                 0.487330            0  \n",
       "4                 0.640701            0  "
      ]
     },
     "execution_count": 4,
     "metadata": {},
     "output_type": "execute_result"
    }
   ],
   "source": [
    "features = pd.read_csv('../data/save-water/lakes-us-with-features.csv')\n",
    "\n",
    "features['feature_bbox_percentage'] = features['feature_area'] / features['feature_bbox_area']\n",
    "features['feature_bbox_percentage'] = features['feature_bbox_percentage'].fillna(0)\n",
    "\n",
    "features['name_length'] = features['name'].apply(get_length_of_name)\n",
    "features['name_length'] = features['name_length'].fillna('')\n",
    "\n",
    "print(features.shape)\n",
    "features.head()"
   ]
  },
  {
   "cell_type": "code",
   "execution_count": 5,
   "metadata": {
    "collapsed": false
   },
   "outputs": [
    {
     "name": "stdout",
     "output_type": "stream",
     "text": [
      "(16749, 7)\n"
     ]
    },
    {
     "data": {
      "text/html": [
       "<div>\n",
       "<table border=\"1\" class=\"dataframe\">\n",
       "  <thead>\n",
       "    <tr style=\"text-align: right;\">\n",
       "      <th></th>\n",
       "      <th>feature_version</th>\n",
       "      <th>feature_area</th>\n",
       "      <th>feature_coordinates</th>\n",
       "      <th>feature_bbox_area</th>\n",
       "      <th>feature_bbox_percentage</th>\n",
       "      <th>user_changesets</th>\n",
       "      <th>user_features</th>\n",
       "    </tr>\n",
       "  </thead>\n",
       "  <tbody>\n",
       "    <tr>\n",
       "      <th>0</th>\n",
       "      <td>1</td>\n",
       "      <td>436663.24</td>\n",
       "      <td>44</td>\n",
       "      <td>675092.62</td>\n",
       "      <td>0.646820</td>\n",
       "      <td>333.0</td>\n",
       "      <td>33900.0</td>\n",
       "    </tr>\n",
       "    <tr>\n",
       "      <th>1</th>\n",
       "      <td>1</td>\n",
       "      <td>58240.41</td>\n",
       "      <td>13</td>\n",
       "      <td>89178.33</td>\n",
       "      <td>0.653078</td>\n",
       "      <td>333.0</td>\n",
       "      <td>33900.0</td>\n",
       "    </tr>\n",
       "    <tr>\n",
       "      <th>2</th>\n",
       "      <td>1</td>\n",
       "      <td>314065.63</td>\n",
       "      <td>83</td>\n",
       "      <td>636780.56</td>\n",
       "      <td>0.493209</td>\n",
       "      <td>333.0</td>\n",
       "      <td>33900.0</td>\n",
       "    </tr>\n",
       "    <tr>\n",
       "      <th>3</th>\n",
       "      <td>1</td>\n",
       "      <td>188710.26</td>\n",
       "      <td>36</td>\n",
       "      <td>387233.10</td>\n",
       "      <td>0.487330</td>\n",
       "      <td>333.0</td>\n",
       "      <td>33900.0</td>\n",
       "    </tr>\n",
       "    <tr>\n",
       "      <th>4</th>\n",
       "      <td>1</td>\n",
       "      <td>16203.76</td>\n",
       "      <td>13</td>\n",
       "      <td>25290.68</td>\n",
       "      <td>0.640701</td>\n",
       "      <td>333.0</td>\n",
       "      <td>33900.0</td>\n",
       "    </tr>\n",
       "  </tbody>\n",
       "</table>\n",
       "</div>"
      ],
      "text/plain": [
       "   feature_version  feature_area  feature_coordinates  feature_bbox_area  \\\n",
       "0                1     436663.24                   44          675092.62   \n",
       "1                1      58240.41                   13           89178.33   \n",
       "2                1     314065.63                   83          636780.56   \n",
       "3                1     188710.26                   36          387233.10   \n",
       "4                1      16203.76                   13           25290.68   \n",
       "\n",
       "   feature_bbox_percentage  user_changesets  user_features  \n",
       "0                 0.646820            333.0        33900.0  \n",
       "1                 0.653078            333.0        33900.0  \n",
       "2                 0.493209            333.0        33900.0  \n",
       "3                 0.487330            333.0        33900.0  \n",
       "4                 0.640701            333.0        33900.0  "
      ]
     },
     "execution_count": 5,
     "metadata": {},
     "output_type": "execute_result"
    }
   ],
   "source": [
    "numericals = ['feature_version', 'feature_area', 'feature_coordinates', 'feature_bbox_area', 'feature_bbox_percentage', 'user_changesets', 'user_features']\n",
    "numerical_features = features[numericals]\n",
    "numerical_features = numerical_features.dropna()\n",
    "print(numerical_features.shape)\n",
    "numerical_features.head()"
   ]
  },
  {
   "cell_type": "markdown",
   "metadata": {},
   "source": [
    "# Feature 1 - Area of the feature"
   ]
  },
  {
   "cell_type": "code",
   "execution_count": 6,
   "metadata": {
    "collapsed": false
   },
   "outputs": [
    {
     "name": "stdout",
     "output_type": "stream",
     "text": [
      "Features with area less than or equal to harmful lake: 8647\n",
      "Features with area greater than the harmful lake: 8157\n"
     ]
    },
    {
     "data": {
      "text/plain": [
       "count    1.680400e+04\n",
       "mean     8.447469e+04\n",
       "std      1.202467e+06\n",
       "min      0.000000e+00\n",
       "25%      2.759888e+03\n",
       "50%      9.753870e+03\n",
       "75%      3.424321e+04\n",
       "max      6.909368e+07\n",
       "Name: feature_area, dtype: float64"
      ]
     },
     "execution_count": 6,
     "metadata": {},
     "output_type": "execute_result"
    }
   ],
   "source": [
    "feature_area_harmful = 10425.51  # Area is in square meters.\n",
    "print('Features with area less than or equal to harmful lake: {}'.format(features[features['feature_area'] <= feature_area_harmful].shape[0]))\n",
    "print('Features with area greater than the harmful lake: {}'.format(features[features['feature_area'] > feature_area_harmful].shape[0]))\n",
    "features['feature_area'].describe()"
   ]
  },
  {
   "cell_type": "code",
   "execution_count": 7,
   "metadata": {
    "collapsed": false
   },
   "outputs": [
    {
     "data": {
      "image/png": "[encoded data removed]",
      "text/plain": [
       "<matplotlib.figure.Figure at 0x10a802cc0>"
      ]
     },
     "metadata": {
      "image/png": {
       "height": 493,
       "width": 697
      }
     },
     "output_type": "display_data"
    }
   ],
   "source": [
    "ax = features['feature_area'].plot.hist()\n",
    "ax.set_yscale('log')"
   ]
  },
  {
   "cell_type": "markdown",
   "metadata": {},
   "source": [
    "## Lakes with an area of zero"
   ]
  },
  {
   "cell_type": "code",
   "execution_count": 8,
   "metadata": {
    "collapsed": false
   },
   "outputs": [
    {
     "name": "stdout",
     "output_type": "stream",
     "text": [
      "Number of features: 17\n"
     ]
    },
    {
     "data": {
      "text/html": [
       "<div>\n",
       "<table border=\"1\" class=\"dataframe\">\n",
       "  <thead>\n",
       "    <tr style=\"text-align: right;\">\n",
       "      <th></th>\n",
       "      <th>feature_id</th>\n",
       "      <th>feature_type</th>\n",
       "      <th>feature_version</th>\n",
       "      <th>feature_area</th>\n",
       "      <th>feature_coordinates</th>\n",
       "      <th>feature_bbox_area</th>\n",
       "      <th>name</th>\n",
       "      <th>changeset_id</th>\n",
       "      <th>changeset_timestamp</th>\n",
       "      <th>user_id</th>\n",
       "      <th>user_name</th>\n",
       "      <th>user_changesets</th>\n",
       "      <th>user_features</th>\n",
       "      <th>feature_bbox_percentage</th>\n",
       "      <th>name_length</th>\n",
       "    </tr>\n",
       "  </thead>\n",
       "  <tbody>\n",
       "    <tr>\n",
       "      <th>18</th>\n",
       "      <td>414865128</td>\n",
       "      <td>way</td>\n",
       "      <td>1</td>\n",
       "      <td>0.0</td>\n",
       "      <td>107</td>\n",
       "      <td>2961530.15</td>\n",
       "      <td>NaN</td>\n",
       "      <td>39025810</td>\n",
       "      <td>1462137351</td>\n",
       "      <td>3887039</td>\n",
       "      <td>rps333_imports</td>\n",
       "      <td>131.0</td>\n",
       "      <td>801138.0</td>\n",
       "      <td>0.0</td>\n",
       "      <td>0</td>\n",
       "    </tr>\n",
       "    <tr>\n",
       "      <th>140</th>\n",
       "      <td>463812890</td>\n",
       "      <td>way</td>\n",
       "      <td>1</td>\n",
       "      <td>0.0</td>\n",
       "      <td>2</td>\n",
       "      <td>78.33</td>\n",
       "      <td>Anderson Lake</td>\n",
       "      <td>44916285</td>\n",
       "      <td>1483599555</td>\n",
       "      <td>1230731</td>\n",
       "      <td>ScottNelson</td>\n",
       "      <td>1196.0</td>\n",
       "      <td>1391606.0</td>\n",
       "      <td>0.0</td>\n",
       "      <td>13</td>\n",
       "    </tr>\n",
       "    <tr>\n",
       "      <th>1416</th>\n",
       "      <td>341953722</td>\n",
       "      <td>way</td>\n",
       "      <td>1</td>\n",
       "      <td>0.0</td>\n",
       "      <td>51</td>\n",
       "      <td>48661.57</td>\n",
       "      <td>NaN</td>\n",
       "      <td>30679954</td>\n",
       "      <td>1430452474</td>\n",
       "      <td>600730</td>\n",
       "      <td>sammuell_imports</td>\n",
       "      <td>474.0</td>\n",
       "      <td>9587117.0</td>\n",
       "      <td>0.0</td>\n",
       "      <td>0</td>\n",
       "    </tr>\n",
       "    <tr>\n",
       "      <th>2165</th>\n",
       "      <td>404782014</td>\n",
       "      <td>way</td>\n",
       "      <td>1</td>\n",
       "      <td>0.0</td>\n",
       "      <td>24</td>\n",
       "      <td>19382.92</td>\n",
       "      <td>NaN</td>\n",
       "      <td>37963254</td>\n",
       "      <td>1458505150</td>\n",
       "      <td>2758934</td>\n",
       "      <td>thexburnsx</td>\n",
       "      <td>28.0</td>\n",
       "      <td>11021.0</td>\n",
       "      <td>0.0</td>\n",
       "      <td>0</td>\n",
       "    </tr>\n",
       "    <tr>\n",
       "      <th>3363</th>\n",
       "      <td>52538170</td>\n",
       "      <td>way</td>\n",
       "      <td>1</td>\n",
       "      <td>0.0</td>\n",
       "      <td>4</td>\n",
       "      <td>0.01</td>\n",
       "      <td>NaN</td>\n",
       "      <td>4148457</td>\n",
       "      <td>1268788582</td>\n",
       "      <td>93326</td>\n",
       "      <td>Hai-Etlik</td>\n",
       "      <td>840.0</td>\n",
       "      <td>429828.0</td>\n",
       "      <td>0.0</td>\n",
       "      <td>0</td>\n",
       "    </tr>\n",
       "    <tr>\n",
       "      <th>4918</th>\n",
       "      <td>378541592</td>\n",
       "      <td>way</td>\n",
       "      <td>1</td>\n",
       "      <td>0.0</td>\n",
       "      <td>41</td>\n",
       "      <td>120452.49</td>\n",
       "      <td>NaN</td>\n",
       "      <td>35111240</td>\n",
       "      <td>1446755087</td>\n",
       "      <td>596047</td>\n",
       "      <td>Rps333</td>\n",
       "      <td>34528.0</td>\n",
       "      <td>12899386.0</td>\n",
       "      <td>0.0</td>\n",
       "      <td>0</td>\n",
       "    </tr>\n",
       "    <tr>\n",
       "      <th>9192</th>\n",
       "      <td>353556280</td>\n",
       "      <td>way</td>\n",
       "      <td>1</td>\n",
       "      <td>0.0</td>\n",
       "      <td>19</td>\n",
       "      <td>26174.03</td>\n",
       "      <td>NaN</td>\n",
       "      <td>31953956</td>\n",
       "      <td>1434246824</td>\n",
       "      <td>360392</td>\n",
       "      <td>maxerickson</td>\n",
       "      <td>15022.0</td>\n",
       "      <td>4362400.0</td>\n",
       "      <td>0.0</td>\n",
       "      <td>0</td>\n",
       "    </tr>\n",
       "    <tr>\n",
       "      <th>9193</th>\n",
       "      <td>353556282</td>\n",
       "      <td>way</td>\n",
       "      <td>1</td>\n",
       "      <td>0.0</td>\n",
       "      <td>36</td>\n",
       "      <td>134090.45</td>\n",
       "      <td>NaN</td>\n",
       "      <td>31953956</td>\n",
       "      <td>1434246825</td>\n",
       "      <td>360392</td>\n",
       "      <td>maxerickson</td>\n",
       "      <td>15022.0</td>\n",
       "      <td>4362400.0</td>\n",
       "      <td>0.0</td>\n",
       "      <td>0</td>\n",
       "    </tr>\n",
       "    <tr>\n",
       "      <th>9194</th>\n",
       "      <td>353556281</td>\n",
       "      <td>way</td>\n",
       "      <td>1</td>\n",
       "      <td>0.0</td>\n",
       "      <td>26</td>\n",
       "      <td>60454.26</td>\n",
       "      <td>NaN</td>\n",
       "      <td>31953956</td>\n",
       "      <td>1434246824</td>\n",
       "      <td>360392</td>\n",
       "      <td>maxerickson</td>\n",
       "      <td>15022.0</td>\n",
       "      <td>4362400.0</td>\n",
       "      <td>0.0</td>\n",
       "      <td>0</td>\n",
       "    </tr>\n",
       "    <tr>\n",
       "      <th>10357</th>\n",
       "      <td>379854480</td>\n",
       "      <td>way</td>\n",
       "      <td>1</td>\n",
       "      <td>0.0</td>\n",
       "      <td>113</td>\n",
       "      <td>61835.19</td>\n",
       "      <td>NaN</td>\n",
       "      <td>35253097</td>\n",
       "      <td>1447295513</td>\n",
       "      <td>139555</td>\n",
       "      <td>DavidJDBA</td>\n",
       "      <td>25777.0</td>\n",
       "      <td>4158315.0</td>\n",
       "      <td>0.0</td>\n",
       "      <td>0</td>\n",
       "    </tr>\n",
       "  </tbody>\n",
       "</table>\n",
       "</div>"
      ],
      "text/plain": [
       "       feature_id feature_type  feature_version  feature_area  \\\n",
       "18      414865128          way                1           0.0   \n",
       "140     463812890          way                1           0.0   \n",
       "1416    341953722          way                1           0.0   \n",
       "2165    404782014          way                1           0.0   \n",
       "3363     52538170          way                1           0.0   \n",
       "4918    378541592          way                1           0.0   \n",
       "9192    353556280          way                1           0.0   \n",
       "9193    353556282          way                1           0.0   \n",
       "9194    353556281          way                1           0.0   \n",
       "10357   379854480          way                1           0.0   \n",
       "\n",
       "       feature_coordinates  feature_bbox_area           name  changeset_id  \\\n",
       "18                     107         2961530.15            NaN      39025810   \n",
       "140                      2              78.33  Anderson Lake      44916285   \n",
       "1416                    51           48661.57            NaN      30679954   \n",
       "2165                    24           19382.92            NaN      37963254   \n",
       "3363                     4               0.01            NaN       4148457   \n",
       "4918                    41          120452.49            NaN      35111240   \n",
       "9192                    19           26174.03            NaN      31953956   \n",
       "9193                    36          134090.45            NaN      31953956   \n",
       "9194                    26           60454.26            NaN      31953956   \n",
       "10357                  113           61835.19            NaN      35253097   \n",
       "\n",
       "       changeset_timestamp  user_id         user_name  user_changesets  \\\n",
       "18              1462137351  3887039    rps333_imports            131.0   \n",
       "140             1483599555  1230731       ScottNelson           1196.0   \n",
       "1416            1430452474   600730  sammuell_imports            474.0   \n",
       "2165            1458505150  2758934        thexburnsx             28.0   \n",
       "3363            1268788582    93326         Hai-Etlik            840.0   \n",
       "4918            1446755087   596047            Rps333          34528.0   \n",
       "9192            1434246824   360392       maxerickson          15022.0   \n",
       "9193            1434246825   360392       maxerickson          15022.0   \n",
       "9194            1434246824   360392       maxerickson          15022.0   \n",
       "10357           1447295513   139555         DavidJDBA          25777.0   \n",
       "\n",
       "       user_features  feature_bbox_percentage  name_length  \n",
       "18          801138.0                      0.0            0  \n",
       "140        1391606.0                      0.0           13  \n",
       "1416       9587117.0                      0.0            0  \n",
       "2165         11021.0                      0.0            0  \n",
       "3363        429828.0                      0.0            0  \n",
       "4918      12899386.0                      0.0            0  \n",
       "9192       4362400.0                      0.0            0  \n",
       "9193       4362400.0                      0.0            0  \n",
       "9194       4362400.0                      0.0            0  \n",
       "10357      4158315.0                      0.0            0  "
      ]
     },
     "execution_count": 8,
     "metadata": {},
     "output_type": "execute_result"
    }
   ],
   "source": [
    "temp = features[(features['feature_type'] == 'way') & (features['feature_area'] == 0)]\n",
    "print('Number of features: {}'.format(temp.shape[0]))\n",
    "temp.head(10)"
   ]
  },
  {
   "cell_type": "markdown",
   "metadata": {},
   "source": [
    "- Feature: http://www.openstreetmap.org/way/414865128\n",
    "- Area of the lake is `0` as the way is un-closed.\n",
    "\n",
    "<img width=\"1227\" alt=\"screen shot 2017-03-22 at 8 08 41 am\" src=\"https://cloud.githubusercontent.com/assets/2899501/24179721/d34f646e-0ed6-11e7-84d3-c1aee71e6975.png\">\n",
    "\n",
    "- Feature: http://www.openstreetmap.org/way/341953722\n",
    "- Although visually looking great, the area is `0` as the geometry type is a `LineString` and not a `Polygon`\n",
    "\n",
    "<img width=\"1227\" alt=\"screen shot 2017-03-22 at 8 15 34 am\" src=\"https://cloud.githubusercontent.com/assets/2899501/24179888/effd55c0-0ed7-11e7-933b-ec177fde97b5.png\">"
   ]
  },
  {
   "cell_type": "markdown",
   "metadata": {},
   "source": [
    "# Feature 2 - Number of coordinanates in the feature"
   ]
  },
  {
   "cell_type": "code",
   "execution_count": 9,
   "metadata": {
    "collapsed": false
   },
   "outputs": [
    {
     "name": "stdout",
     "output_type": "stream",
     "text": [
      "Features with coordinates less than or equal to harmful lake: 1169\n",
      "Features with coordinates greater than harmful lake: 15635\n"
     ]
    },
    {
     "data": {
      "text/plain": [
       "count    16804.000000\n",
       "mean        33.867472\n",
       "std         40.860425\n",
       "min          1.000000\n",
       "25%         13.000000\n",
       "50%         22.000000\n",
       "75%         39.000000\n",
       "max        697.000000\n",
       "Name: feature_coordinates, dtype: float64"
      ]
     },
     "execution_count": 9,
     "metadata": {},
     "output_type": "execute_result"
    }
   ],
   "source": [
    "feature_coordinates_harmful = 7\n",
    "print('Features with coordinates less than or equal to harmful lake: {}'.format(features[features['feature_coordinates'] <= feature_coordinates_harmful].shape[0]))\n",
    "print('Features with coordinates greater than harmful lake: {}'.format(features[features['feature_coordinates'] > feature_coordinates_harmful].shape[0]))\n",
    "features['feature_coordinates'].describe()"
   ]
  },
  {
   "cell_type": "code",
   "execution_count": 10,
   "metadata": {
    "collapsed": false
   },
   "outputs": [
    {
     "data": {
      "image/png": "[encoded data removed]",
      "text/plain": [
       "<matplotlib.figure.Figure at 0x10fbf4c50>"
      ]
     },
     "metadata": {
      "image/png": {
       "height": 476,
       "width": 704
      }
     },
     "output_type": "display_data"
    }
   ],
   "source": [
    "ax = features['feature_coordinates'].plot.hist()\n",
    "ax.set_yscale('log')"
   ]
  },
  {
   "cell_type": "markdown",
   "metadata": {},
   "source": [
    "## How do features with few coordinates look like?"
   ]
  },
  {
   "cell_type": "code",
   "execution_count": 25,
   "metadata": {
    "collapsed": false
   },
   "outputs": [
    {
     "name": "stdout",
     "output_type": "stream",
     "text": [
      "Number of features: 71\n"
     ]
    },
    {
     "data": {
      "text/html": [
       "<div>\n",
       "<table border=\"1\" class=\"dataframe\">\n",
       "  <thead>\n",
       "    <tr style=\"text-align: right;\">\n",
       "      <th></th>\n",
       "      <th>feature_id</th>\n",
       "      <th>feature_type</th>\n",
       "      <th>feature_version</th>\n",
       "      <th>feature_area</th>\n",
       "      <th>feature_coordinates</th>\n",
       "      <th>feature_bbox_area</th>\n",
       "      <th>name</th>\n",
       "      <th>changeset_id</th>\n",
       "      <th>changeset_timestamp</th>\n",
       "      <th>user_id</th>\n",
       "      <th>user_name</th>\n",
       "      <th>user_changesets</th>\n",
       "      <th>user_features</th>\n",
       "      <th>feature_bbox_percentage</th>\n",
       "      <th>name_length</th>\n",
       "    </tr>\n",
       "  </thead>\n",
       "  <tbody>\n",
       "    <tr>\n",
       "      <th>72</th>\n",
       "      <td>414865820</td>\n",
       "      <td>way</td>\n",
       "      <td>1</td>\n",
       "      <td>2.19</td>\n",
       "      <td>4</td>\n",
       "      <td>4.37</td>\n",
       "      <td>NaN</td>\n",
       "      <td>39025810</td>\n",
       "      <td>1462137421</td>\n",
       "      <td>3887039</td>\n",
       "      <td>rps333_imports</td>\n",
       "      <td>131.0</td>\n",
       "      <td>801138.0</td>\n",
       "      <td>0.501144</td>\n",
       "      <td>0</td>\n",
       "    </tr>\n",
       "    <tr>\n",
       "      <th>140</th>\n",
       "      <td>463812890</td>\n",
       "      <td>way</td>\n",
       "      <td>1</td>\n",
       "      <td>0.00</td>\n",
       "      <td>2</td>\n",
       "      <td>78.33</td>\n",
       "      <td>Anderson Lake</td>\n",
       "      <td>44916285</td>\n",
       "      <td>1483599555</td>\n",
       "      <td>1230731</td>\n",
       "      <td>ScottNelson</td>\n",
       "      <td>1196.0</td>\n",
       "      <td>1391606.0</td>\n",
       "      <td>0.000000</td>\n",
       "      <td>13</td>\n",
       "    </tr>\n",
       "    <tr>\n",
       "      <th>301</th>\n",
       "      <td>334804714</td>\n",
       "      <td>way</td>\n",
       "      <td>1</td>\n",
       "      <td>24.03</td>\n",
       "      <td>4</td>\n",
       "      <td>48.05</td>\n",
       "      <td>NaN</td>\n",
       "      <td>29744389</td>\n",
       "      <td>1427351350</td>\n",
       "      <td>1752660</td>\n",
       "      <td>Barry McLane</td>\n",
       "      <td>1062.0</td>\n",
       "      <td>693767.0</td>\n",
       "      <td>0.500104</td>\n",
       "      <td>0</td>\n",
       "    </tr>\n",
       "    <tr>\n",
       "      <th>2579</th>\n",
       "      <td>52594687</td>\n",
       "      <td>way</td>\n",
       "      <td>1</td>\n",
       "      <td>5.31</td>\n",
       "      <td>4</td>\n",
       "      <td>10.63</td>\n",
       "      <td>NaN</td>\n",
       "      <td>4155397</td>\n",
       "      <td>1268851480</td>\n",
       "      <td>93326</td>\n",
       "      <td>Hai-Etlik</td>\n",
       "      <td>840.0</td>\n",
       "      <td>429828.0</td>\n",
       "      <td>0.499530</td>\n",
       "      <td>0</td>\n",
       "    </tr>\n",
       "    <tr>\n",
       "      <th>2682</th>\n",
       "      <td>331923408</td>\n",
       "      <td>way</td>\n",
       "      <td>1</td>\n",
       "      <td>231.62</td>\n",
       "      <td>4</td>\n",
       "      <td>485.69</td>\n",
       "      <td>NaN</td>\n",
       "      <td>29340152</td>\n",
       "      <td>1425852779</td>\n",
       "      <td>1752660</td>\n",
       "      <td>Barry McLane</td>\n",
       "      <td>1062.0</td>\n",
       "      <td>693767.0</td>\n",
       "      <td>0.476889</td>\n",
       "      <td>0</td>\n",
       "    </tr>\n",
       "    <tr>\n",
       "      <th>3363</th>\n",
       "      <td>52538170</td>\n",
       "      <td>way</td>\n",
       "      <td>1</td>\n",
       "      <td>0.00</td>\n",
       "      <td>4</td>\n",
       "      <td>0.01</td>\n",
       "      <td>NaN</td>\n",
       "      <td>4148457</td>\n",
       "      <td>1268788582</td>\n",
       "      <td>93326</td>\n",
       "      <td>Hai-Etlik</td>\n",
       "      <td>840.0</td>\n",
       "      <td>429828.0</td>\n",
       "      <td>0.000000</td>\n",
       "      <td>0</td>\n",
       "    </tr>\n",
       "    <tr>\n",
       "      <th>3948</th>\n",
       "      <td>392012722</td>\n",
       "      <td>way</td>\n",
       "      <td>1</td>\n",
       "      <td>3.64</td>\n",
       "      <td>4</td>\n",
       "      <td>7.28</td>\n",
       "      <td>NaN</td>\n",
       "      <td>36648300</td>\n",
       "      <td>1453089382</td>\n",
       "      <td>202615</td>\n",
       "      <td>DavidF</td>\n",
       "      <td>991.0</td>\n",
       "      <td>122854.0</td>\n",
       "      <td>0.500000</td>\n",
       "      <td>0</td>\n",
       "    </tr>\n",
       "    <tr>\n",
       "      <th>4367</th>\n",
       "      <td>385145884</td>\n",
       "      <td>way</td>\n",
       "      <td>1</td>\n",
       "      <td>102.19</td>\n",
       "      <td>4</td>\n",
       "      <td>204.38</td>\n",
       "      <td>Jerry Johnson Hotsprings main pools</td>\n",
       "      <td>35850906</td>\n",
       "      <td>1449683377</td>\n",
       "      <td>3437162</td>\n",
       "      <td>duluozbum</td>\n",
       "      <td>179.0</td>\n",
       "      <td>1466.0</td>\n",
       "      <td>0.500000</td>\n",
       "      <td>35</td>\n",
       "    </tr>\n",
       "    <tr>\n",
       "      <th>4476</th>\n",
       "      <td>385145844</td>\n",
       "      <td>way</td>\n",
       "      <td>1</td>\n",
       "      <td>18.84</td>\n",
       "      <td>4</td>\n",
       "      <td>39.14</td>\n",
       "      <td>Hot Spring Number1</td>\n",
       "      <td>35850889</td>\n",
       "      <td>1449683306</td>\n",
       "      <td>3437162</td>\n",
       "      <td>duluozbum</td>\n",
       "      <td>179.0</td>\n",
       "      <td>1466.0</td>\n",
       "      <td>0.481349</td>\n",
       "      <td>18</td>\n",
       "    </tr>\n",
       "    <tr>\n",
       "      <th>5126</th>\n",
       "      <td>447873473</td>\n",
       "      <td>way</td>\n",
       "      <td>1</td>\n",
       "      <td>14.62</td>\n",
       "      <td>4</td>\n",
       "      <td>29.23</td>\n",
       "      <td>NaN</td>\n",
       "      <td>42920547</td>\n",
       "      <td>1476545857</td>\n",
       "      <td>24186</td>\n",
       "      <td>Brutus</td>\n",
       "      <td>5527.0</td>\n",
       "      <td>779806.0</td>\n",
       "      <td>0.500171</td>\n",
       "      <td>0</td>\n",
       "    </tr>\n",
       "  </tbody>\n",
       "</table>\n",
       "</div>"
      ],
      "text/plain": [
       "      feature_id feature_type  feature_version  feature_area  \\\n",
       "72     414865820          way                1          2.19   \n",
       "140    463812890          way                1          0.00   \n",
       "301    334804714          way                1         24.03   \n",
       "2579    52594687          way                1          5.31   \n",
       "2682   331923408          way                1        231.62   \n",
       "3363    52538170          way                1          0.00   \n",
       "3948   392012722          way                1          3.64   \n",
       "4367   385145884          way                1        102.19   \n",
       "4476   385145844          way                1         18.84   \n",
       "5126   447873473          way                1         14.62   \n",
       "\n",
       "      feature_coordinates  feature_bbox_area  \\\n",
       "72                      4               4.37   \n",
       "140                     2              78.33   \n",
       "301                     4              48.05   \n",
       "2579                    4              10.63   \n",
       "2682                    4             485.69   \n",
       "3363                    4               0.01   \n",
       "3948                    4               7.28   \n",
       "4367                    4             204.38   \n",
       "4476                    4              39.14   \n",
       "5126                    4              29.23   \n",
       "\n",
       "                                     name  changeset_id  changeset_timestamp  \\\n",
       "72                                    NaN      39025810           1462137421   \n",
       "140                         Anderson Lake      44916285           1483599555   \n",
       "301                                   NaN      29744389           1427351350   \n",
       "2579                                  NaN       4155397           1268851480   \n",
       "2682                                  NaN      29340152           1425852779   \n",
       "3363                                  NaN       4148457           1268788582   \n",
       "3948                                  NaN      36648300           1453089382   \n",
       "4367  Jerry Johnson Hotsprings main pools      35850906           1449683377   \n",
       "4476                   Hot Spring Number1      35850889           1449683306   \n",
       "5126                                  NaN      42920547           1476545857   \n",
       "\n",
       "      user_id       user_name  user_changesets  user_features  \\\n",
       "72    3887039  rps333_imports            131.0       801138.0   \n",
       "140   1230731     ScottNelson           1196.0      1391606.0   \n",
       "301   1752660    Barry McLane           1062.0       693767.0   \n",
       "2579    93326       Hai-Etlik            840.0       429828.0   \n",
       "2682  1752660    Barry McLane           1062.0       693767.0   \n",
       "3363    93326       Hai-Etlik            840.0       429828.0   \n",
       "3948   202615          DavidF            991.0       122854.0   \n",
       "4367  3437162       duluozbum            179.0         1466.0   \n",
       "4476  3437162       duluozbum            179.0         1466.0   \n",
       "5126    24186          Brutus           5527.0       779806.0   \n",
       "\n",
       "      feature_bbox_percentage  name_length  \n",
       "72                   0.501144            0  \n",
       "140                  0.000000           13  \n",
       "301                  0.500104            0  \n",
       "2579                 0.499530            0  \n",
       "2682                 0.476889            0  \n",
       "3363                 0.000000            0  \n",
       "3948                 0.500000            0  \n",
       "4367                 0.500000           35  \n",
       "4476                 0.481349           18  \n",
       "5126                 0.500171            0  "
      ]
     },
     "execution_count": 25,
     "metadata": {},
     "output_type": "execute_result"
    }
   ],
   "source": [
    "# A polygon should have atleast 3 coordinates.\n",
    "temp = features[(features['feature_type'] != 'node') & (features['feature_coordinates'] < 5)]\n",
    "print('Number of features: {}'.format(temp.shape[0]))\n",
    "temp.head(10)"
   ]
  },
  {
   "cell_type": "markdown",
   "metadata": {},
   "source": [
    "## How do features with lots of coordinates look like?"
   ]
  },
  {
   "cell_type": "code",
   "execution_count": 12,
   "metadata": {
    "collapsed": false
   },
   "outputs": [
    {
     "data": {
      "text/html": [
       "<div>\n",
       "<table border=\"1\" class=\"dataframe\">\n",
       "  <thead>\n",
       "    <tr style=\"text-align: right;\">\n",
       "      <th></th>\n",
       "      <th>feature_id</th>\n",
       "      <th>feature_type</th>\n",
       "      <th>feature_version</th>\n",
       "      <th>feature_area</th>\n",
       "      <th>feature_coordinates</th>\n",
       "      <th>feature_bbox_area</th>\n",
       "      <th>name</th>\n",
       "      <th>changeset_id</th>\n",
       "      <th>changeset_timestamp</th>\n",
       "      <th>user_id</th>\n",
       "      <th>user_name</th>\n",
       "      <th>user_changesets</th>\n",
       "      <th>user_features</th>\n",
       "      <th>feature_bbox_percentage</th>\n",
       "      <th>name_length</th>\n",
       "    </tr>\n",
       "  </thead>\n",
       "  <tbody>\n",
       "    <tr>\n",
       "      <th>214</th>\n",
       "      <td>410107988</td>\n",
       "      <td>way</td>\n",
       "      <td>1</td>\n",
       "      <td>3167322.39</td>\n",
       "      <td>697</td>\n",
       "      <td>5171209.89</td>\n",
       "      <td>Pikitigushi Lake</td>\n",
       "      <td>38540892</td>\n",
       "      <td>1460586207</td>\n",
       "      <td>76077</td>\n",
       "      <td>Bootprint</td>\n",
       "      <td>10044.0</td>\n",
       "      <td>1315304.0</td>\n",
       "      <td>0.612492</td>\n",
       "      <td>16</td>\n",
       "    </tr>\n",
       "    <tr>\n",
       "      <th>3076</th>\n",
       "      <td>334724560</td>\n",
       "      <td>way</td>\n",
       "      <td>1</td>\n",
       "      <td>2278799.88</td>\n",
       "      <td>687</td>\n",
       "      <td>4177367.75</td>\n",
       "      <td>Leach Lake</td>\n",
       "      <td>29733585</td>\n",
       "      <td>1427307865</td>\n",
       "      <td>1752660</td>\n",
       "      <td>Barry McLane</td>\n",
       "      <td>1062.0</td>\n",
       "      <td>693767.0</td>\n",
       "      <td>0.545511</td>\n",
       "      <td>10</td>\n",
       "    </tr>\n",
       "  </tbody>\n",
       "</table>\n",
       "</div>"
      ],
      "text/plain": [
       "      feature_id feature_type  feature_version  feature_area  \\\n",
       "214    410107988          way                1    3167322.39   \n",
       "3076   334724560          way                1    2278799.88   \n",
       "\n",
       "      feature_coordinates  feature_bbox_area              name  changeset_id  \\\n",
       "214                   697         5171209.89  Pikitigushi Lake      38540892   \n",
       "3076                  687         4177367.75        Leach Lake      29733585   \n",
       "\n",
       "      changeset_timestamp  user_id     user_name  user_changesets  \\\n",
       "214            1460586207    76077     Bootprint          10044.0   \n",
       "3076           1427307865  1752660  Barry McLane           1062.0   \n",
       "\n",
       "      user_features  feature_bbox_percentage  name_length  \n",
       "214       1315304.0                 0.612492           16  \n",
       "3076       693767.0                 0.545511           10  "
      ]
     },
     "execution_count": 12,
     "metadata": {},
     "output_type": "execute_result"
    }
   ],
   "source": [
    "features[features['feature_coordinates'] > 600]"
   ]
  },
  {
   "cell_type": "markdown",
   "metadata": {},
   "source": [
    "- Lakes tend to have higher number of coordinates, the mean being `33`.\n",
    "- Larger lakes tend to be mapped as relations as the largest v1 lake, [way/410107988](http://www.openstreetmap.org/way/410107988) has 697 coordinates."
   ]
  },
  {
   "cell_type": "markdown",
   "metadata": {},
   "source": [
    "# Feature 3 - Percentage of bbox actually covered by feature\n",
    "\n",
    "- A square feature covers the entire bbox and thus will have a percentage of 100%.\n",
    "- The more square like or rectangular the feature, the higher the percentage.\n",
    "- NOTE: Square features that are not orthogonal won't have 100% as the feature bbox's are always orthogonal."
   ]
  },
  {
   "cell_type": "code",
   "execution_count": 13,
   "metadata": {
    "collapsed": false
   },
   "outputs": [
    {
     "name": "stdout",
     "output_type": "stream",
     "text": [
      "Features with percenrage lesser than or equal to harmful lake: 16099\n",
      "Features with percenrage greater than harmful lake: 705\n"
     ]
    },
    {
     "data": {
      "text/plain": [
       "count    16804.000000\n",
       "mean         0.545144\n",
       "std          0.161698\n",
       "min          0.000000\n",
       "25%          0.441487\n",
       "50%          0.566168\n",
       "75%          0.666575\n",
       "max          1.000000\n",
       "Name: feature_bbox_percentage, dtype: float64"
      ]
     },
     "execution_count": 13,
     "metadata": {},
     "output_type": "execute_result"
    }
   ],
   "source": [
    "feature_bbox_percentage_harmful = 0.78\n",
    "print('Features with percenrage lesser than or equal to harmful lake: {}'.format(features[features['feature_bbox_percentage'] <= feature_bbox_percentage_harmful].shape[0]))\n",
    "print('Features with percenrage greater than harmful lake: {}'.format(features[features['feature_bbox_percentage'] > feature_bbox_percentage_harmful].shape[0]))\n",
    "features['feature_bbox_percentage'].describe()"
   ]
  },
  {
   "cell_type": "code",
   "execution_count": 14,
   "metadata": {
    "collapsed": false
   },
   "outputs": [
    {
     "data": {
      "image/png": "[encoded data removed]",
      "text/plain": [
       "<matplotlib.figure.Figure at 0x114694ba8>"
      ]
     },
     "metadata": {
      "image/png": {
       "height": 535,
       "width": 783
      }
     },
     "output_type": "display_data"
    }
   ],
   "source": [
    "ax = features['feature_bbox_percentage'].plot.hist()\n",
    "ax.set_xlabel('Percentage of feature bbox actually covered by the feature')\n",
    "plt.tight_layout()"
   ]
  },
  {
   "cell_type": "markdown",
   "metadata": {},
   "source": [
    "### Percentage of the feature bbox actually covered by feature is 100%"
   ]
  },
  {
   "cell_type": "code",
   "execution_count": 15,
   "metadata": {
    "collapsed": false
   },
   "outputs": [
    {
     "data": {
      "text/html": [
       "<div>\n",
       "<table border=\"1\" class=\"dataframe\">\n",
       "  <thead>\n",
       "    <tr style=\"text-align: right;\">\n",
       "      <th></th>\n",
       "      <th>feature_id</th>\n",
       "      <th>feature_type</th>\n",
       "      <th>feature_version</th>\n",
       "      <th>feature_area</th>\n",
       "      <th>feature_coordinates</th>\n",
       "      <th>feature_bbox_area</th>\n",
       "      <th>name</th>\n",
       "      <th>changeset_id</th>\n",
       "      <th>changeset_timestamp</th>\n",
       "      <th>user_id</th>\n",
       "      <th>user_name</th>\n",
       "      <th>user_changesets</th>\n",
       "      <th>user_features</th>\n",
       "      <th>feature_bbox_percentage</th>\n",
       "      <th>name_length</th>\n",
       "    </tr>\n",
       "  </thead>\n",
       "  <tbody>\n",
       "    <tr>\n",
       "      <th>10514</th>\n",
       "      <td>366416160</td>\n",
       "      <td>way</td>\n",
       "      <td>1</td>\n",
       "      <td>1.73</td>\n",
       "      <td>5</td>\n",
       "      <td>1.73</td>\n",
       "      <td>NaN</td>\n",
       "      <td>33429678</td>\n",
       "      <td>1439953631</td>\n",
       "      <td>2937740</td>\n",
       "      <td>BreckT</td>\n",
       "      <td>555.0</td>\n",
       "      <td>44572.0</td>\n",
       "      <td>1.0</td>\n",
       "      <td>0</td>\n",
       "    </tr>\n",
       "    <tr>\n",
       "      <th>10896</th>\n",
       "      <td>405148327</td>\n",
       "      <td>way</td>\n",
       "      <td>1</td>\n",
       "      <td>0.01</td>\n",
       "      <td>4</td>\n",
       "      <td>0.01</td>\n",
       "      <td>Twin Pots Reservoir</td>\n",
       "      <td>38003606</td>\n",
       "      <td>1458666440</td>\n",
       "      <td>1501508</td>\n",
       "      <td>mash84121</td>\n",
       "      <td>2465.0</td>\n",
       "      <td>121979.0</td>\n",
       "      <td>1.0</td>\n",
       "      <td>19</td>\n",
       "    </tr>\n",
       "    <tr>\n",
       "      <th>12928</th>\n",
       "      <td>352613181</td>\n",
       "      <td>way</td>\n",
       "      <td>1</td>\n",
       "      <td>0.14</td>\n",
       "      <td>5</td>\n",
       "      <td>0.14</td>\n",
       "      <td>NaN</td>\n",
       "      <td>31847043</td>\n",
       "      <td>1433862939</td>\n",
       "      <td>143017</td>\n",
       "      <td>thekl0wn</td>\n",
       "      <td>857.0</td>\n",
       "      <td>83097.0</td>\n",
       "      <td>1.0</td>\n",
       "      <td>0</td>\n",
       "    </tr>\n",
       "    <tr>\n",
       "      <th>14196</th>\n",
       "      <td>442498678</td>\n",
       "      <td>way</td>\n",
       "      <td>1</td>\n",
       "      <td>2.77</td>\n",
       "      <td>5</td>\n",
       "      <td>2.77</td>\n",
       "      <td>NaN</td>\n",
       "      <td>42159869</td>\n",
       "      <td>1473889629</td>\n",
       "      <td>4577096</td>\n",
       "      <td>kennethdale1969</td>\n",
       "      <td>41.0</td>\n",
       "      <td>333.0</td>\n",
       "      <td>1.0</td>\n",
       "      <td>0</td>\n",
       "    </tr>\n",
       "  </tbody>\n",
       "</table>\n",
       "</div>"
      ],
      "text/plain": [
       "       feature_id feature_type  feature_version  feature_area  \\\n",
       "10514   366416160          way                1          1.73   \n",
       "10896   405148327          way                1          0.01   \n",
       "12928   352613181          way                1          0.14   \n",
       "14196   442498678          way                1          2.77   \n",
       "\n",
       "       feature_coordinates  feature_bbox_area                 name  \\\n",
       "10514                    5               1.73                  NaN   \n",
       "10896                    4               0.01  Twin Pots Reservoir   \n",
       "12928                    5               0.14                  NaN   \n",
       "14196                    5               2.77                  NaN   \n",
       "\n",
       "       changeset_id  changeset_timestamp  user_id        user_name  \\\n",
       "10514      33429678           1439953631  2937740           BreckT   \n",
       "10896      38003606           1458666440  1501508        mash84121   \n",
       "12928      31847043           1433862939   143017         thekl0wn   \n",
       "14196      42159869           1473889629  4577096  kennethdale1969   \n",
       "\n",
       "       user_changesets  user_features  feature_bbox_percentage  name_length  \n",
       "10514            555.0        44572.0                      1.0            0  \n",
       "10896           2465.0       121979.0                      1.0           19  \n",
       "12928            857.0        83097.0                      1.0            0  \n",
       "14196             41.0          333.0                      1.0            0  "
      ]
     },
     "execution_count": 15,
     "metadata": {},
     "output_type": "execute_result"
    }
   ],
   "source": [
    "# The percentages are between 0 and 1.\n",
    "features[features['feature_bbox_percentage'] == 1]"
   ]
  },
  {
   "cell_type": "markdown",
   "metadata": {},
   "source": [
    "- Feature: http://www.openstreetmap.org/way/442498678/\n",
    "- The feature is a rectangular lake created by a new user which he/she later deleted.\n",
    "- TODO: Some false positives show up in the list as percentage=100%\n",
    "\n",
    "<img width=\"1227\" alt=\"screen shot 2017-03-22 at 10 33 36 am\" src=\"https://cloud.githubusercontent.com/assets/2899501/24182988/464e45f2-0eeb-11e7-809a-6d8c006cc137.png\">"
   ]
  },
  {
   "cell_type": "markdown",
   "metadata": {},
   "source": [
    "# Feature 4: Number of changesets of the user"
   ]
  },
  {
   "cell_type": "code",
   "execution_count": 16,
   "metadata": {
    "collapsed": false
   },
   "outputs": [
    {
     "name": "stdout",
     "output_type": "stream",
     "text": [
      "Features with user changesets lesser than or equal to harmful lake: 125\n",
      "Features with user changesets greater than harmful lake: 16624\n"
     ]
    },
    {
     "data": {
      "text/plain": [
       "count     16749.000000\n",
       "mean       5906.608932\n",
       "std        8143.443159\n",
       "min           0.000000\n",
       "25%        1062.000000\n",
       "50%        1786.000000\n",
       "75%        7426.000000\n",
       "max      103272.000000\n",
       "Name: user_changesets, dtype: float64"
      ]
     },
     "execution_count": 16,
     "metadata": {},
     "output_type": "execute_result"
    }
   ],
   "source": [
    "user_changesets_harmful = 3\n",
    "print('Features with user changesets lesser than or equal to harmful lake: {}'.format(features[features['user_changesets'] <= user_changesets_harmful].shape[0]))\n",
    "print('Features with user changesets greater than harmful lake: {}'.format(features[features['user_changesets'] > user_changesets_harmful].shape[0]))\n",
    "features['user_changesets'].describe()"
   ]
  },
  {
   "cell_type": "markdown",
   "metadata": {},
   "source": [
    "- New users don't tend to create lakes.\n",
    "- Just `125` out of `16749` lakes were created by users with changesets 3 or less."
   ]
  },
  {
   "cell_type": "code",
   "execution_count": 17,
   "metadata": {
    "collapsed": false
   },
   "outputs": [
    {
     "data": {
      "image/png": "[encoded data removed]",
      "text/plain": [
       "<matplotlib.figure.Figure at 0x1103bc828>"
      ]
     },
     "metadata": {
      "image/png": {
       "height": 533,
       "width": 782
      }
     },
     "output_type": "display_data"
    }
   ],
   "source": [
    "ax = features.drop_duplicates('user_name')['user_changesets'].plot.hist()\n",
    "ax.set_yscale('log')\n",
    "ax.set_xlabel('Number of changesets of the user')\n",
    "plt.tight_layout()"
   ]
  },
  {
   "cell_type": "markdown",
   "metadata": {},
   "source": [
    "## Lakes created by users with 0 changesets. What? Really?\n",
    "- Issue with osm-comments-api, ticketed out here: https://github.com/mapbox/osm-comments-api/issues/65#issuecomment-288306225"
   ]
  },
  {
   "cell_type": "code",
   "execution_count": 18,
   "metadata": {
    "collapsed": false
   },
   "outputs": [
    {
     "data": {
      "text/html": [
       "<div>\n",
       "<table border=\"1\" class=\"dataframe\">\n",
       "  <thead>\n",
       "    <tr style=\"text-align: right;\">\n",
       "      <th></th>\n",
       "      <th>feature_id</th>\n",
       "      <th>feature_type</th>\n",
       "      <th>feature_version</th>\n",
       "      <th>feature_area</th>\n",
       "      <th>feature_coordinates</th>\n",
       "      <th>feature_bbox_area</th>\n",
       "      <th>name</th>\n",
       "      <th>changeset_id</th>\n",
       "      <th>changeset_timestamp</th>\n",
       "      <th>user_id</th>\n",
       "      <th>user_name</th>\n",
       "      <th>user_changesets</th>\n",
       "      <th>user_features</th>\n",
       "      <th>feature_bbox_percentage</th>\n",
       "      <th>name_length</th>\n",
       "    </tr>\n",
       "  </thead>\n",
       "  <tbody>\n",
       "    <tr>\n",
       "      <th>11206</th>\n",
       "      <td>473632121</td>\n",
       "      <td>way</td>\n",
       "      <td>1</td>\n",
       "      <td>3307.76</td>\n",
       "      <td>17</td>\n",
       "      <td>4821.13</td>\n",
       "      <td>Lake</td>\n",
       "      <td>45954993</td>\n",
       "      <td>1486667152</td>\n",
       "      <td>5290698</td>\n",
       "      <td>DoctorTeeth</td>\n",
       "      <td>0.0</td>\n",
       "      <td>0.0</td>\n",
       "      <td>0.686096</td>\n",
       "      <td>4</td>\n",
       "    </tr>\n",
       "  </tbody>\n",
       "</table>\n",
       "</div>"
      ],
      "text/plain": [
       "       feature_id feature_type  feature_version  feature_area  \\\n",
       "11206   473632121          way                1       3307.76   \n",
       "\n",
       "       feature_coordinates  feature_bbox_area  name  changeset_id  \\\n",
       "11206                   17            4821.13  Lake      45954993   \n",
       "\n",
       "       changeset_timestamp  user_id    user_name  user_changesets  \\\n",
       "11206           1486667152  5290698  DoctorTeeth              0.0   \n",
       "\n",
       "       user_features  feature_bbox_percentage  name_length  \n",
       "11206            0.0                 0.686096            4  "
      ]
     },
     "execution_count": 18,
     "metadata": {},
     "output_type": "execute_result"
    }
   ],
   "source": [
    "features[features['user_changesets'] == 0]"
   ]
  },
  {
   "cell_type": "markdown",
   "metadata": {},
   "source": [
    "- User [DoctorTeeth](http://www.openstreetmap.org/user/DoctorTeeth) is new to OpenStreetMap.\n",
    "- Feature: http://www.openstreetmap.org/way/473631956\n",
    "- Some documentation about mapping best practices would be amazing to share with the user.\n",
    "- Ex: Building has the name `House` and lake has the name `Lake` and sometimes `Water Table`.\n",
    "\n",
    "<img width=\"1227\" alt=\"screen shot 2017-03-22 at 11 53 17 am\" src=\"https://cloud.githubusercontent.com/assets/2899501/24184881/2c670af6-0ef6-11e7-9e66-e16a65f2553e.png\">"
   ]
  },
  {
   "cell_type": "markdown",
   "metadata": {},
   "source": [
    "# Feature 5: Does the lake have a name?"
   ]
  },
  {
   "cell_type": "code",
   "execution_count": 19,
   "metadata": {
    "collapsed": false
   },
   "outputs": [
    {
     "name": "stdout",
     "output_type": "stream",
     "text": [
      "Features with name: 4083\n",
      "Features without name: 12721\n",
      "Percentage of v1 lakes with name: 32%\n"
     ]
    }
   ],
   "source": [
    "name_harmful = None\n",
    "print('Features with name: {}'.format(features['name'].dropna().shape[0]))\n",
    "print('Features without name: {}'.format(features['name'].isnull().sum()))\n",
    "print('Percentage of v1 lakes with name: {}%'.format(int(100.0 * features['name'].dropna().shape[0] / features['name'].isnull().sum())))"
   ]
  },
  {
   "cell_type": "code",
   "execution_count": 20,
   "metadata": {
    "collapsed": false
   },
   "outputs": [
    {
     "data": {
      "text/plain": [
       "<matplotlib.axes._subplots.AxesSubplot at 0x1109b99b0>"
      ]
     },
     "execution_count": 20,
     "metadata": {},
     "output_type": "execute_result"
    },
    {
     "data": {
      "image/png": "[encoded data removed]",
      "text/plain": [
       "<matplotlib.figure.Figure at 0x1109b97b8>"
      ]
     },
     "metadata": {
      "image/png": {
       "height": 475,
       "width": 709
      }
     },
     "output_type": "display_data"
    }
   ],
   "source": [
    "features[features['name_length'] > 0]['name_length'].plot.hist()"
   ]
  },
  {
   "cell_type": "markdown",
   "metadata": {},
   "source": [
    "## What do small names look like?"
   ]
  },
  {
   "cell_type": "code",
   "execution_count": 21,
   "metadata": {
    "collapsed": false
   },
   "outputs": [
    {
     "data": {
      "text/html": [
       "<div>\n",
       "<table border=\"1\" class=\"dataframe\">\n",
       "  <thead>\n",
       "    <tr style=\"text-align: right;\">\n",
       "      <th></th>\n",
       "      <th>feature_id</th>\n",
       "      <th>feature_type</th>\n",
       "      <th>feature_version</th>\n",
       "      <th>feature_area</th>\n",
       "      <th>feature_coordinates</th>\n",
       "      <th>feature_bbox_area</th>\n",
       "      <th>name</th>\n",
       "      <th>changeset_id</th>\n",
       "      <th>changeset_timestamp</th>\n",
       "      <th>user_id</th>\n",
       "      <th>user_name</th>\n",
       "      <th>user_changesets</th>\n",
       "      <th>user_features</th>\n",
       "      <th>feature_bbox_percentage</th>\n",
       "      <th>name_length</th>\n",
       "    </tr>\n",
       "  </thead>\n",
       "  <tbody>\n",
       "    <tr>\n",
       "      <th>131</th>\n",
       "      <td>469253887</td>\n",
       "      <td>way</td>\n",
       "      <td>1</td>\n",
       "      <td>1031.79</td>\n",
       "      <td>6</td>\n",
       "      <td>1091.16</td>\n",
       "      <td>nope</td>\n",
       "      <td>45535982</td>\n",
       "      <td>1485476534</td>\n",
       "      <td>5202842</td>\n",
       "      <td>deered</td>\n",
       "      <td>2.0</td>\n",
       "      <td>16.0</td>\n",
       "      <td>0.945590</td>\n",
       "      <td>4</td>\n",
       "    </tr>\n",
       "    <tr>\n",
       "      <th>1831</th>\n",
       "      <td>352069135</td>\n",
       "      <td>way</td>\n",
       "      <td>1</td>\n",
       "      <td>15739.76</td>\n",
       "      <td>39</td>\n",
       "      <td>27094.96</td>\n",
       "      <td>Lake</td>\n",
       "      <td>31790747</td>\n",
       "      <td>1433685686</td>\n",
       "      <td>1320019</td>\n",
       "      <td>MindoMap</td>\n",
       "      <td>30.0</td>\n",
       "      <td>14326.0</td>\n",
       "      <td>0.580911</td>\n",
       "      <td>4</td>\n",
       "    </tr>\n",
       "    <tr>\n",
       "      <th>2025</th>\n",
       "      <td>256521511</td>\n",
       "      <td>way</td>\n",
       "      <td>1</td>\n",
       "      <td>121354.40</td>\n",
       "      <td>46</td>\n",
       "      <td>385257.10</td>\n",
       "      <td>Buck</td>\n",
       "      <td>19983183</td>\n",
       "      <td>1389666539</td>\n",
       "      <td>1853994</td>\n",
       "      <td>pierrecoucat</td>\n",
       "      <td>123.0</td>\n",
       "      <td>15018.0</td>\n",
       "      <td>0.314996</td>\n",
       "      <td>4</td>\n",
       "    </tr>\n",
       "    <tr>\n",
       "      <th>2283</th>\n",
       "      <td>254196588</td>\n",
       "      <td>way</td>\n",
       "      <td>1</td>\n",
       "      <td>53382.22</td>\n",
       "      <td>35</td>\n",
       "      <td>157586.44</td>\n",
       "      <td>Jog</td>\n",
       "      <td>19700220</td>\n",
       "      <td>1388337283</td>\n",
       "      <td>1853994</td>\n",
       "      <td>pierrecoucat</td>\n",
       "      <td>123.0</td>\n",
       "      <td>15018.0</td>\n",
       "      <td>0.338749</td>\n",
       "      <td>3</td>\n",
       "    </tr>\n",
       "    <tr>\n",
       "      <th>2869</th>\n",
       "      <td>343135985</td>\n",
       "      <td>way</td>\n",
       "      <td>1</td>\n",
       "      <td>15496.06</td>\n",
       "      <td>14</td>\n",
       "      <td>24379.67</td>\n",
       "      <td>Lake</td>\n",
       "      <td>30830335</td>\n",
       "      <td>1430890271</td>\n",
       "      <td>1320019</td>\n",
       "      <td>MindoMap</td>\n",
       "      <td>30.0</td>\n",
       "      <td>14326.0</td>\n",
       "      <td>0.635614</td>\n",
       "      <td>4</td>\n",
       "    </tr>\n",
       "    <tr>\n",
       "      <th>7422</th>\n",
       "      <td>437897746</td>\n",
       "      <td>way</td>\n",
       "      <td>1</td>\n",
       "      <td>2679.65</td>\n",
       "      <td>14</td>\n",
       "      <td>4534.83</td>\n",
       "      <td>Lake</td>\n",
       "      <td>41547225</td>\n",
       "      <td>1471572832</td>\n",
       "      <td>385046</td>\n",
       "      <td>Palolo</td>\n",
       "      <td>6319.0</td>\n",
       "      <td>2630484.0</td>\n",
       "      <td>0.590904</td>\n",
       "      <td>4</td>\n",
       "    </tr>\n",
       "    <tr>\n",
       "      <th>8182</th>\n",
       "      <td>361994848</td>\n",
       "      <td>way</td>\n",
       "      <td>1</td>\n",
       "      <td>44374.60</td>\n",
       "      <td>58</td>\n",
       "      <td>135286.79</td>\n",
       "      <td>9678</td>\n",
       "      <td>32840492</td>\n",
       "      <td>1437706110</td>\n",
       "      <td>2937740</td>\n",
       "      <td>BreckT</td>\n",
       "      <td>555.0</td>\n",
       "      <td>44572.0</td>\n",
       "      <td>0.328004</td>\n",
       "      <td>4</td>\n",
       "    </tr>\n",
       "    <tr>\n",
       "      <th>8188</th>\n",
       "      <td>361996659</td>\n",
       "      <td>way</td>\n",
       "      <td>1</td>\n",
       "      <td>10629.64</td>\n",
       "      <td>7</td>\n",
       "      <td>13900.04</td>\n",
       "      <td>9641</td>\n",
       "      <td>32840832</td>\n",
       "      <td>1437709429</td>\n",
       "      <td>2937740</td>\n",
       "      <td>BreckT</td>\n",
       "      <td>555.0</td>\n",
       "      <td>44572.0</td>\n",
       "      <td>0.764720</td>\n",
       "      <td>4</td>\n",
       "    </tr>\n",
       "    <tr>\n",
       "      <th>8354</th>\n",
       "      <td>361999981</td>\n",
       "      <td>way</td>\n",
       "      <td>1</td>\n",
       "      <td>39340.66</td>\n",
       "      <td>19</td>\n",
       "      <td>75201.35</td>\n",
       "      <td>9535</td>\n",
       "      <td>32841086</td>\n",
       "      <td>1437712400</td>\n",
       "      <td>2937740</td>\n",
       "      <td>BreckT</td>\n",
       "      <td>555.0</td>\n",
       "      <td>44572.0</td>\n",
       "      <td>0.523138</td>\n",
       "      <td>4</td>\n",
       "    </tr>\n",
       "    <tr>\n",
       "      <th>8356</th>\n",
       "      <td>361999959</td>\n",
       "      <td>way</td>\n",
       "      <td>1</td>\n",
       "      <td>22185.04</td>\n",
       "      <td>12</td>\n",
       "      <td>38685.89</td>\n",
       "      <td>9053</td>\n",
       "      <td>32841086</td>\n",
       "      <td>1437712398</td>\n",
       "      <td>2937740</td>\n",
       "      <td>BreckT</td>\n",
       "      <td>555.0</td>\n",
       "      <td>44572.0</td>\n",
       "      <td>0.573466</td>\n",
       "      <td>4</td>\n",
       "    </tr>\n",
       "  </tbody>\n",
       "</table>\n",
       "</div>"
      ],
      "text/plain": [
       "      feature_id feature_type  feature_version  feature_area  \\\n",
       "131    469253887          way                1       1031.79   \n",
       "1831   352069135          way                1      15739.76   \n",
       "2025   256521511          way                1     121354.40   \n",
       "2283   254196588          way                1      53382.22   \n",
       "2869   343135985          way                1      15496.06   \n",
       "7422   437897746          way                1       2679.65   \n",
       "8182   361994848          way                1      44374.60   \n",
       "8188   361996659          way                1      10629.64   \n",
       "8354   361999981          way                1      39340.66   \n",
       "8356   361999959          way                1      22185.04   \n",
       "\n",
       "      feature_coordinates  feature_bbox_area  name  changeset_id  \\\n",
       "131                     6            1091.16  nope      45535982   \n",
       "1831                   39           27094.96  Lake      31790747   \n",
       "2025                   46          385257.10  Buck      19983183   \n",
       "2283                   35          157586.44   Jog      19700220   \n",
       "2869                   14           24379.67  Lake      30830335   \n",
       "7422                   14            4534.83  Lake      41547225   \n",
       "8182                   58          135286.79  9678      32840492   \n",
       "8188                    7           13900.04  9641      32840832   \n",
       "8354                   19           75201.35  9535      32841086   \n",
       "8356                   12           38685.89  9053      32841086   \n",
       "\n",
       "      changeset_timestamp  user_id     user_name  user_changesets  \\\n",
       "131            1485476534  5202842        deered              2.0   \n",
       "1831           1433685686  1320019      MindoMap             30.0   \n",
       "2025           1389666539  1853994  pierrecoucat            123.0   \n",
       "2283           1388337283  1853994  pierrecoucat            123.0   \n",
       "2869           1430890271  1320019      MindoMap             30.0   \n",
       "7422           1471572832   385046        Palolo           6319.0   \n",
       "8182           1437706110  2937740        BreckT            555.0   \n",
       "8188           1437709429  2937740        BreckT            555.0   \n",
       "8354           1437712400  2937740        BreckT            555.0   \n",
       "8356           1437712398  2937740        BreckT            555.0   \n",
       "\n",
       "      user_features  feature_bbox_percentage  name_length  \n",
       "131            16.0                 0.945590            4  \n",
       "1831        14326.0                 0.580911            4  \n",
       "2025        15018.0                 0.314996            4  \n",
       "2283        15018.0                 0.338749            3  \n",
       "2869        14326.0                 0.635614            4  \n",
       "7422      2630484.0                 0.590904            4  \n",
       "8182        44572.0                 0.328004            4  \n",
       "8188        44572.0                 0.764720            4  \n",
       "8354        44572.0                 0.523138            4  \n",
       "8356        44572.0                 0.573466            4  "
      ]
     },
     "execution_count": 21,
     "metadata": {},
     "output_type": "execute_result"
    }
   ],
   "source": [
    "features[(features['name_length'] > 0) & (features['name_length'] < 5)].head(10)"
   ]
  },
  {
   "cell_type": "markdown",
   "metadata": {},
   "source": [
    "- Feaure: http://www.openstreetmap.org/way/469253887\n",
    "- A new user, [deered](http://www.openstreetmap.org/user/deered) with 2 changesets creates a lake with name \"`nope`\" with changeset comment \"`please ignore`\".\n",
    "- The satellite imagery shows no water body in the region\n",
    "\n",
    "<img width=\"1226\" alt=\"screen shot 2017-03-22 at 12 13 21 pm\" src=\"https://cloud.githubusercontent.com/assets/2899501/24185419/1989c3e4-0ef9-11e7-87fd-631c6ddbb562.png\">\n",
    "\n",
    "Another feature by the same user.\n",
    "- Feature: http://www.openstreetmap.org/way/125564093\n",
    "- The user added `natural=water`, `water=lake` and removed `tourism=hotel`, clearly some form of vandalism.\n",
    "<img width=\"1224\" alt=\"screen shot 2017-03-22 at 12 17 17 pm\" src=\"https://cloud.githubusercontent.com/assets/2899501/24185535/99360846-0ef9-11e7-98ca-2b438fcebd6f.png\">\n"
   ]
  },
  {
   "cell_type": "markdown",
   "metadata": {},
   "source": [
    "## What do the large names look like?"
   ]
  },
  {
   "cell_type": "code",
   "execution_count": 22,
   "metadata": {
    "collapsed": false
   },
   "outputs": [
    {
     "data": {
      "text/html": [
       "<div>\n",
       "<table border=\"1\" class=\"dataframe\">\n",
       "  <thead>\n",
       "    <tr style=\"text-align: right;\">\n",
       "      <th></th>\n",
       "      <th>feature_id</th>\n",
       "      <th>feature_type</th>\n",
       "      <th>feature_version</th>\n",
       "      <th>feature_area</th>\n",
       "      <th>feature_coordinates</th>\n",
       "      <th>feature_bbox_area</th>\n",
       "      <th>name</th>\n",
       "      <th>changeset_id</th>\n",
       "      <th>changeset_timestamp</th>\n",
       "      <th>user_id</th>\n",
       "      <th>user_name</th>\n",
       "      <th>user_changesets</th>\n",
       "      <th>user_features</th>\n",
       "      <th>feature_bbox_percentage</th>\n",
       "      <th>name_length</th>\n",
       "    </tr>\n",
       "  </thead>\n",
       "  <tbody>\n",
       "    <tr>\n",
       "      <th>9491</th>\n",
       "      <td>229220656</td>\n",
       "      <td>way</td>\n",
       "      <td>1</td>\n",
       "      <td>61895.20</td>\n",
       "      <td>105</td>\n",
       "      <td>119449.62</td>\n",
       "      <td>Midlothian Creek Detention Reservoir</td>\n",
       "      <td>16879695</td>\n",
       "      <td>1373317748</td>\n",
       "      <td>518622</td>\n",
       "      <td>terremoto73</td>\n",
       "      <td>133.0</td>\n",
       "      <td>6507.0</td>\n",
       "      <td>0.518170</td>\n",
       "      <td>36</td>\n",
       "    </tr>\n",
       "    <tr>\n",
       "      <th>11620</th>\n",
       "      <td>391286307</td>\n",
       "      <td>way</td>\n",
       "      <td>1</td>\n",
       "      <td>171123.52</td>\n",
       "      <td>158</td>\n",
       "      <td>455991.45</td>\n",
       "      <td>Herrington Manor Recreation Area Reservoir</td>\n",
       "      <td>36560084</td>\n",
       "      <td>1452720730</td>\n",
       "      <td>247807</td>\n",
       "      <td>asciiphil</td>\n",
       "      <td>3573.0</td>\n",
       "      <td>2801326.0</td>\n",
       "      <td>0.375278</td>\n",
       "      <td>42</td>\n",
       "    </tr>\n",
       "    <tr>\n",
       "      <th>11764</th>\n",
       "      <td>391286307</td>\n",
       "      <td>way</td>\n",
       "      <td>1</td>\n",
       "      <td>14043.40</td>\n",
       "      <td>28</td>\n",
       "      <td>20378.14</td>\n",
       "      <td>Herrington Manor Recreation Area Reservoir</td>\n",
       "      <td>36560084</td>\n",
       "      <td>1452720730</td>\n",
       "      <td>247807</td>\n",
       "      <td>asciiphil</td>\n",
       "      <td>3573.0</td>\n",
       "      <td>2801326.0</td>\n",
       "      <td>0.689140</td>\n",
       "      <td>42</td>\n",
       "    </tr>\n",
       "  </tbody>\n",
       "</table>\n",
       "</div>"
      ],
      "text/plain": [
       "       feature_id feature_type  feature_version  feature_area  \\\n",
       "9491    229220656          way                1      61895.20   \n",
       "11620   391286307          way                1     171123.52   \n",
       "11764   391286307          way                1      14043.40   \n",
       "\n",
       "       feature_coordinates  feature_bbox_area  \\\n",
       "9491                   105          119449.62   \n",
       "11620                  158          455991.45   \n",
       "11764                   28           20378.14   \n",
       "\n",
       "                                             name  changeset_id  \\\n",
       "9491         Midlothian Creek Detention Reservoir      16879695   \n",
       "11620  Herrington Manor Recreation Area Reservoir      36560084   \n",
       "11764  Herrington Manor Recreation Area Reservoir      36560084   \n",
       "\n",
       "       changeset_timestamp  user_id    user_name  user_changesets  \\\n",
       "9491            1373317748   518622  terremoto73            133.0   \n",
       "11620           1452720730   247807    asciiphil           3573.0   \n",
       "11764           1452720730   247807    asciiphil           3573.0   \n",
       "\n",
       "       user_features  feature_bbox_percentage  name_length  \n",
       "9491          6507.0                 0.518170           36  \n",
       "11620      2801326.0                 0.375278           42  \n",
       "11764      2801326.0                 0.689140           42  "
      ]
     },
     "execution_count": 22,
     "metadata": {},
     "output_type": "execute_result"
    }
   ],
   "source": [
    "features[features['name_length'] > 35].head(10)"
   ]
  },
  {
   "cell_type": "markdown",
   "metadata": {},
   "source": [
    "- Things looks good on the large names side. Yay!"
   ]
  },
  {
   "cell_type": "code",
   "execution_count": null,
   "metadata": {
    "collapsed": true
   },
   "outputs": [],
   "source": []
  },
  {
   "cell_type": "code",
   "execution_count": null,
   "metadata": {
    "collapsed": true
   },
   "outputs": [],
   "source": []
  },
  {
   "cell_type": "code",
   "execution_count": null,
   "metadata": {
    "collapsed": true
   },
   "outputs": [],
   "source": []
  },
  {
   "cell_type": "code",
   "execution_count": null,
   "metadata": {
    "collapsed": true
   },
   "outputs": [],
   "source": []
  },
  {
   "cell_type": "code",
   "execution_count": null,
   "metadata": {
    "collapsed": true
   },
   "outputs": [],
   "source": []
  },
  {
   "cell_type": "code",
   "execution_count": 23,
   "metadata": {
    "collapsed": false
   },
   "outputs": [
    {
     "ename": "AssertionError",
     "evalue": "",
     "output_type": "error",
     "traceback": [
      "\u001b[0;31m---------------------------------------------------------------------------\u001b[0m",
      "\u001b[0;31mAssertionError\u001b[0m                            Traceback (most recent call last)",
      "\u001b[0;32m<ipython-input-23-6e6df518a476>\u001b[0m in \u001b[0;36m<module>\u001b[0;34m()\u001b[0m\n\u001b[0;32m----> 1\u001b[0;31m \u001b[0;32massert\u001b[0m \u001b[0;32mFalse\u001b[0m\u001b[0;34m\u001b[0m\u001b[0m\n\u001b[0m",
      "\u001b[0;31mAssertionError\u001b[0m: "
     ]
    }
   ],
   "source": [
    "assert False"
   ]
  },
  {
   "cell_type": "markdown",
   "metadata": {},
   "source": [
    "# Exploratory data analysis"
   ]
  },
  {
   "cell_type": "code",
   "execution_count": null,
   "metadata": {
    "collapsed": false
   },
   "outputs": [],
   "source": [
    "sns.pairplot(numerical_features)"
   ]
  },
  {
   "cell_type": "markdown",
   "metadata": {},
   "source": [
    "# Outlier Detection"
   ]
  },
  {
   "cell_type": "code",
   "execution_count": null,
   "metadata": {
    "collapsed": false
   },
   "outputs": [],
   "source": [
    "# Scaling features before training the classifier\n",
    "scaler = preprocessing.StandardScaler().fit(numerical_features)\n",
    "numerical_features = pd.DataFrame(scaler.transform(numerical_features), columns=numericals)\n",
    "numerical_features.head()"
   ]
  },
  {
   "cell_type": "code",
   "execution_count": null,
   "metadata": {
    "collapsed": false
   },
   "outputs": [],
   "source": [
    "# Training the classifier\n",
    "clf = ensemble.IsolationForest()\n",
    "clf.fit(numerical_features)\n",
    "clf"
   ]
  },
  {
   "cell_type": "code",
   "execution_count": null,
   "metadata": {
    "collapsed": false
   },
   "outputs": [],
   "source": [
    "def get_prediction(item):\n",
    "    return clf.predict(scaler.transform([item[numericals]]))\n",
    "\n",
    "features['prediction'] = features[numericals].dropna().apply(get_prediction, axis=1)['feature_area']\n",
    "\n",
    "print('Total: {}'.format(features.shape[0]))\n",
    "print('Number of outliers: {}'.format(features[features['prediction'] == -1].shape[0]))\n",
    "print('Number of inliers: {}'.format(features[features['prediction'] == 1].shape[0]))"
   ]
  },
  {
   "cell_type": "markdown",
   "metadata": {},
   "source": [
    "- NOTE: 10% of features are detected as outliers which is interesting.\n",
    "- Basically, the algorithm thinks these features are different from the rest after looking at all the parameters."
   ]
  },
  {
   "cell_type": "code",
   "execution_count": null,
   "metadata": {
    "collapsed": false
   },
   "outputs": [],
   "source": [
    "features[features['prediction'] == -1].drop_duplicates('feature_id').head()"
   ]
  }
 ],
 "metadata": {
  "anaconda-cloud": {},
  "kernelspec": {
   "display_name": "Python [conda root]",
   "language": "python",
   "name": "conda-root-py"
  },
  "language_info": {
   "codemirror_mode": {
    "name": "ipython",
    "version": 3
   },
   "file_extension": ".py",
   "mimetype": "text/x-python",
   "name": "python",
   "nbconvert_exporter": "python",
   "pygments_lexer": "ipython3",
   "version": "3.5.2"
  }
 },
 "nbformat": 4,
 "nbformat_minor": 2
}
