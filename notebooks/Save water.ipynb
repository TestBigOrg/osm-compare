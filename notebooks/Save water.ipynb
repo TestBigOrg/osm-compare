{
 "cells": [
  {
   "cell_type": "markdown",
   "metadata": {},
   "source": [
    "# Save Water"
   ]
  },
  {
   "cell_type": "markdown",
   "metadata": {},
   "source": [
    "*NOTE: Focusing on just the lakes in the US for all the analysis below.*"
   ]
  },
  {
   "cell_type": "markdown",
   "metadata": {},
   "source": [
    "## Goals\n",
    "- Given the lake that was created in the middle on Manhattan can we identify other similar looking lakes?\n",
    "- The big picture being, given a harmful feature, can we identify similar features on OpenStreetMap and are they harmful in nature?"
   ]
  },
  {
   "cell_type": "markdown",
   "metadata": {},
   "source": [
    "## Data\n",
    "\n",
    "Geojson of the harmful lake in the middle of Manhattan.\n",
    "```json\n",
    "{\"type\":\"Feature\",\"id\":\"way!481252780!2\",\"properties\":{\"natural\":\"water\",\"water\":\"lake\",\"osm:type\":\"way\",\"osm:id\":481252780,\"osm:version\":2,\"osm:changeset\":47005897,\"osm:timestamp\":1490000491000,\"osm:uid\":3479270,\"osm:user\":\"nammala\"},\"geometry\":{\"type\":\"MultiPolygon\",\"coordinates\":[[[[-74.006621,40.736432],[-74.0082566,40.7361974],[-74.008322,40.736188],[-74.0082979,40.7364619],[-74.008254,40.736961],[-74.006498,40.736957],[-74.006621,40.736432]]]]},\"deleted\":true}\n",
    "```"
   ]
  },
  {
   "cell_type": "markdown",
   "metadata": {},
   "source": [
    "## Features\n",
    "\n",
    "### Analysis complete\n",
    "- Area of the feature\n",
    "- Number of nodes in the feature geometry\n",
    "- Percentage of bbox covered by the feature\n",
    "- Total number of user changesets \\ features\n",
    "- Does the feature have a name\n",
    "\n",
    "### Analysis to do\n",
    "- Type of the feature (node | way | relation)\n",
    "- Has Wikipedia or Wikidata\n",
    "- When was it created\n",
    "- Number of primary tags\n",
    "- What and the number of other tags\n",
    "- Number of name translations"
   ]
  },
  {
   "cell_type": "code",
   "execution_count": 1,
   "metadata": {
    "collapsed": true
   },
   "outputs": [],
   "source": [
    "%matplotlib inline\n",
    "%config InlineBackend.figure_format = 'retina'\n",
    "\n",
    "import warnings\n",
    "warnings.filterwarnings(\"ignore\")"
   ]
  },
  {
   "cell_type": "code",
   "execution_count": 2,
   "metadata": {
    "collapsed": true
   },
   "outputs": [],
   "source": [
    "import pandas as pd\n",
    "import numpy as np\n",
    "import matplotlib.pyplot as plt\n",
    "import seaborn as sns\n",
    "\n",
    "from sklearn import preprocessing\n",
    "from sklearn import ensemble"
   ]
  },
  {
   "cell_type": "code",
   "execution_count": 3,
   "metadata": {
    "collapsed": true
   },
   "outputs": [],
   "source": [
    "def get_length_of_name(name):\n",
    "    if pd.isnull(name):\n",
    "        return 0\n",
    "    return len(name)"
   ]
  },
  {
   "cell_type": "code",
   "execution_count": 4,
   "metadata": {
    "collapsed": false
   },
   "outputs": [
    {
     "name": "stdout",
     "output_type": "stream",
     "text": [
      "(14544, 15)\n"
     ]
    },
    {
     "data": {
      "text/html": [
       "<div>\n",
       "<table border=\"1\" class=\"dataframe\">\n",
       "  <thead>\n",
       "    <tr style=\"text-align: right;\">\n",
       "      <th></th>\n",
       "      <th>feature_id</th>\n",
       "      <th>feature_type</th>\n",
       "      <th>feature_version</th>\n",
       "      <th>feature_area</th>\n",
       "      <th>feature_coordinates</th>\n",
       "      <th>feature_bbox_area</th>\n",
       "      <th>name</th>\n",
       "      <th>changeset_id</th>\n",
       "      <th>changeset_timestamp</th>\n",
       "      <th>user_id</th>\n",
       "      <th>user_name</th>\n",
       "      <th>user_changesets</th>\n",
       "      <th>user_features</th>\n",
       "      <th>feature_bbox_percentage</th>\n",
       "      <th>name_length</th>\n",
       "    </tr>\n",
       "  </thead>\n",
       "  <tbody>\n",
       "    <tr>\n",
       "      <th>0</th>\n",
       "      <td>2575055633</td>\n",
       "      <td>node</td>\n",
       "      <td>1</td>\n",
       "      <td>0.00</td>\n",
       "      <td>1</td>\n",
       "      <td>0.00</td>\n",
       "      <td>Lake Petenwell</td>\n",
       "      <td>19385721</td>\n",
       "      <td>1386715393</td>\n",
       "      <td>1743198</td>\n",
       "      <td>ItalianMustache</td>\n",
       "      <td>18094.0</td>\n",
       "      <td>1259373.0</td>\n",
       "      <td>0.000000</td>\n",
       "      <td>14</td>\n",
       "    </tr>\n",
       "    <tr>\n",
       "      <th>1</th>\n",
       "      <td>3319529761</td>\n",
       "      <td>node</td>\n",
       "      <td>1</td>\n",
       "      <td>0.00</td>\n",
       "      <td>1</td>\n",
       "      <td>0.00</td>\n",
       "      <td>Rennis Lake</td>\n",
       "      <td>28492277</td>\n",
       "      <td>1422559325</td>\n",
       "      <td>690275</td>\n",
       "      <td>Firefishe</td>\n",
       "      <td>143.0</td>\n",
       "      <td>2836.0</td>\n",
       "      <td>0.000000</td>\n",
       "      <td>11</td>\n",
       "    </tr>\n",
       "    <tr>\n",
       "      <th>2</th>\n",
       "      <td>3346227220</td>\n",
       "      <td>node</td>\n",
       "      <td>1</td>\n",
       "      <td>0.00</td>\n",
       "      <td>1</td>\n",
       "      <td>0.00</td>\n",
       "      <td>Hillebrand Lake</td>\n",
       "      <td>28801260</td>\n",
       "      <td>1423763995</td>\n",
       "      <td>542403</td>\n",
       "      <td>SD Mapman</td>\n",
       "      <td>7793.0</td>\n",
       "      <td>516948.0</td>\n",
       "      <td>0.000000</td>\n",
       "      <td>15</td>\n",
       "    </tr>\n",
       "    <tr>\n",
       "      <th>3</th>\n",
       "      <td>4057927</td>\n",
       "      <td>relation</td>\n",
       "      <td>1</td>\n",
       "      <td>219099.65</td>\n",
       "      <td>114</td>\n",
       "      <td>603418.42</td>\n",
       "      <td>Crooked Lake</td>\n",
       "      <td>25591215</td>\n",
       "      <td>1411339609</td>\n",
       "      <td>437598</td>\n",
       "      <td>dmgroom_ct</td>\n",
       "      <td>13266.0</td>\n",
       "      <td>2847271.0</td>\n",
       "      <td>0.363097</td>\n",
       "      <td>12</td>\n",
       "    </tr>\n",
       "    <tr>\n",
       "      <th>4</th>\n",
       "      <td>6758398</td>\n",
       "      <td>relation</td>\n",
       "      <td>1</td>\n",
       "      <td>218918.49</td>\n",
       "      <td>75</td>\n",
       "      <td>529688.81</td>\n",
       "      <td>Twin Lakes</td>\n",
       "      <td>44129852</td>\n",
       "      <td>1480743220</td>\n",
       "      <td>1751737</td>\n",
       "      <td>Skybunny</td>\n",
       "      <td>17162.0</td>\n",
       "      <td>687813.0</td>\n",
       "      <td>0.413296</td>\n",
       "      <td>10</td>\n",
       "    </tr>\n",
       "  </tbody>\n",
       "</table>\n",
       "</div>"
      ],
      "text/plain": [
       "   feature_id feature_type  feature_version  feature_area  \\\n",
       "0  2575055633         node                1          0.00   \n",
       "1  3319529761         node                1          0.00   \n",
       "2  3346227220         node                1          0.00   \n",
       "3     4057927     relation                1     219099.65   \n",
       "4     6758398     relation                1     218918.49   \n",
       "\n",
       "   feature_coordinates  feature_bbox_area             name  changeset_id  \\\n",
       "0                    1               0.00   Lake Petenwell      19385721   \n",
       "1                    1               0.00      Rennis Lake      28492277   \n",
       "2                    1               0.00  Hillebrand Lake      28801260   \n",
       "3                  114          603418.42     Crooked Lake      25591215   \n",
       "4                   75          529688.81       Twin Lakes      44129852   \n",
       "\n",
       "   changeset_timestamp  user_id        user_name  user_changesets  \\\n",
       "0           1386715393  1743198  ItalianMustache          18094.0   \n",
       "1           1422559325   690275        Firefishe            143.0   \n",
       "2           1423763995   542403        SD Mapman           7793.0   \n",
       "3           1411339609   437598       dmgroom_ct          13266.0   \n",
       "4           1480743220  1751737         Skybunny          17162.0   \n",
       "\n",
       "   user_features  feature_bbox_percentage  name_length  \n",
       "0      1259373.0                 0.000000           14  \n",
       "1         2836.0                 0.000000           11  \n",
       "2       516948.0                 0.000000           15  \n",
       "3      2847271.0                 0.363097           12  \n",
       "4       687813.0                 0.413296           10  "
      ]
     },
     "execution_count": 4,
     "metadata": {},
     "output_type": "execute_result"
    }
   ],
   "source": [
    "features = pd.read_csv('../data/save-water/features.csv')\n",
    "\n",
    "features['feature_bbox_percentage'] = features['feature_area'] / features['feature_bbox_area']\n",
    "features['feature_bbox_percentage'] = features['feature_bbox_percentage'].fillna(0)\n",
    "\n",
    "features['name_length'] = features['name'].apply(get_length_of_name)\n",
    "features['name_length'] = features['name_length'].fillna('')\n",
    "\n",
    "print(features.shape)\n",
    "features.head()"
   ]
  },
  {
   "cell_type": "code",
   "execution_count": 6,
   "metadata": {
    "collapsed": false
   },
   "outputs": [
    {
     "name": "stdout",
     "output_type": "stream",
     "text": [
      "(14528, 7)\n"
     ]
    },
    {
     "data": {
      "text/html": [
       "<div>\n",
       "<table border=\"1\" class=\"dataframe\">\n",
       "  <thead>\n",
       "    <tr style=\"text-align: right;\">\n",
       "      <th></th>\n",
       "      <th>feature_version</th>\n",
       "      <th>feature_area</th>\n",
       "      <th>feature_coordinates</th>\n",
       "      <th>feature_bbox_area</th>\n",
       "      <th>feature_bbox_percentage</th>\n",
       "      <th>user_changesets</th>\n",
       "      <th>user_features</th>\n",
       "    </tr>\n",
       "  </thead>\n",
       "  <tbody>\n",
       "    <tr>\n",
       "      <th>0</th>\n",
       "      <td>1</td>\n",
       "      <td>0.00</td>\n",
       "      <td>1</td>\n",
       "      <td>0.00</td>\n",
       "      <td>0.000000</td>\n",
       "      <td>18094.0</td>\n",
       "      <td>1259373.0</td>\n",
       "    </tr>\n",
       "    <tr>\n",
       "      <th>1</th>\n",
       "      <td>1</td>\n",
       "      <td>0.00</td>\n",
       "      <td>1</td>\n",
       "      <td>0.00</td>\n",
       "      <td>0.000000</td>\n",
       "      <td>143.0</td>\n",
       "      <td>2836.0</td>\n",
       "    </tr>\n",
       "    <tr>\n",
       "      <th>2</th>\n",
       "      <td>1</td>\n",
       "      <td>0.00</td>\n",
       "      <td>1</td>\n",
       "      <td>0.00</td>\n",
       "      <td>0.000000</td>\n",
       "      <td>7793.0</td>\n",
       "      <td>516948.0</td>\n",
       "    </tr>\n",
       "    <tr>\n",
       "      <th>3</th>\n",
       "      <td>1</td>\n",
       "      <td>219099.65</td>\n",
       "      <td>114</td>\n",
       "      <td>603418.42</td>\n",
       "      <td>0.363097</td>\n",
       "      <td>13266.0</td>\n",
       "      <td>2847271.0</td>\n",
       "    </tr>\n",
       "    <tr>\n",
       "      <th>4</th>\n",
       "      <td>1</td>\n",
       "      <td>218918.49</td>\n",
       "      <td>75</td>\n",
       "      <td>529688.81</td>\n",
       "      <td>0.413296</td>\n",
       "      <td>17162.0</td>\n",
       "      <td>687813.0</td>\n",
       "    </tr>\n",
       "  </tbody>\n",
       "</table>\n",
       "</div>"
      ],
      "text/plain": [
       "   feature_version  feature_area  feature_coordinates  feature_bbox_area  \\\n",
       "0                1          0.00                    1               0.00   \n",
       "1                1          0.00                    1               0.00   \n",
       "2                1          0.00                    1               0.00   \n",
       "3                1     219099.65                  114          603418.42   \n",
       "4                1     218918.49                   75          529688.81   \n",
       "\n",
       "   feature_bbox_percentage  user_changesets  user_features  \n",
       "0                 0.000000          18094.0      1259373.0  \n",
       "1                 0.000000            143.0         2836.0  \n",
       "2                 0.000000           7793.0       516948.0  \n",
       "3                 0.363097          13266.0      2847271.0  \n",
       "4                 0.413296          17162.0       687813.0  "
      ]
     },
     "execution_count": 6,
     "metadata": {},
     "output_type": "execute_result"
    }
   ],
   "source": [
    "numericals = ['feature_version', 'feature_area', 'feature_coordinates', 'feature_bbox_area', 'feature_bbox_percentage', 'user_changesets', 'user_features']\n",
    "numerical_features = features[numericals]\n",
    "numerical_features = numerical_features.dropna()\n",
    "print(numerical_features.shape)\n",
    "numerical_features.head()"
   ]
  },
  {
   "cell_type": "markdown",
   "metadata": {},
   "source": [
    "# Feature 1 - Area of the feature"
   ]
  },
  {
   "cell_type": "code",
   "execution_count": 7,
   "metadata": {
    "collapsed": false
   },
   "outputs": [
    {
     "name": "stdout",
     "output_type": "stream",
     "text": [
      "Features with area less than or equal to harmful lake: 6581\n",
      "Features with area greater than the harmful lake: 7963\n"
     ]
    },
    {
     "data": {
      "text/plain": [
       "count    1.454400e+04\n",
       "mean     1.173518e+05\n",
       "std      2.726172e+06\n",
       "min      0.000000e+00\n",
       "25%      4.065005e+03\n",
       "50%      1.278747e+04\n",
       "75%      4.322822e+04\n",
       "max      3.086395e+08\n",
       "Name: feature_area, dtype: float64"
      ]
     },
     "execution_count": 7,
     "metadata": {},
     "output_type": "execute_result"
    }
   ],
   "source": [
    "feature_area_harmful = 10425.51  # Area is in square meters.\n",
    "print('Features with area less than or equal to harmful lake: {}'.format(features[features['feature_area'] <= feature_area_harmful].shape[0]))\n",
    "print('Features with area greater than the harmful lake: {}'.format(features[features['feature_area'] > feature_area_harmful].shape[0]))\n",
    "features['feature_area'].describe()"
   ]
  },
  {
   "cell_type": "code",
   "execution_count": 8,
   "metadata": {
    "collapsed": false
   },
   "outputs": [
    {
     "data": {
      "image/png": "[encoded data removed]",
      "text/plain": [
       "<matplotlib.figure.Figure at 0x10f5420f0>"
      ]
     },
     "metadata": {
      "image/png": {
       "height": 493,
       "width": 702
      }
     },
     "output_type": "display_data"
    }
   ],
   "source": [
    "ax = features['feature_area'].plot.hist()\n",
    "ax.set_yscale('log')"
   ]
  },
  {
   "cell_type": "markdown",
   "metadata": {},
   "source": [
    "## Lakes with an area of zero"
   ]
  },
  {
   "cell_type": "code",
   "execution_count": 10,
   "metadata": {
    "collapsed": false
   },
   "outputs": [
    {
     "name": "stdout",
     "output_type": "stream",
     "text": [
      "Number of features: 2\n"
     ]
    },
    {
     "data": {
      "text/html": [
       "<div>\n",
       "<table border=\"1\" class=\"dataframe\">\n",
       "  <thead>\n",
       "    <tr style=\"text-align: right;\">\n",
       "      <th></th>\n",
       "      <th>feature_id</th>\n",
       "      <th>feature_type</th>\n",
       "      <th>feature_version</th>\n",
       "      <th>feature_area</th>\n",
       "      <th>feature_coordinates</th>\n",
       "      <th>feature_bbox_area</th>\n",
       "      <th>name</th>\n",
       "      <th>changeset_id</th>\n",
       "      <th>changeset_timestamp</th>\n",
       "      <th>user_id</th>\n",
       "      <th>user_name</th>\n",
       "      <th>user_changesets</th>\n",
       "      <th>user_features</th>\n",
       "      <th>feature_bbox_percentage</th>\n",
       "      <th>name_length</th>\n",
       "    </tr>\n",
       "  </thead>\n",
       "  <tbody>\n",
       "    <tr>\n",
       "      <th>2512</th>\n",
       "      <td>379854480</td>\n",
       "      <td>way</td>\n",
       "      <td>1</td>\n",
       "      <td>0.0</td>\n",
       "      <td>113</td>\n",
       "      <td>61835.21</td>\n",
       "      <td>NaN</td>\n",
       "      <td>35253097</td>\n",
       "      <td>1447295513</td>\n",
       "      <td>139555</td>\n",
       "      <td>DavidJDBA</td>\n",
       "      <td>25832.0</td>\n",
       "      <td>4168328.0</td>\n",
       "      <td>0.0</td>\n",
       "      <td>0</td>\n",
       "    </tr>\n",
       "    <tr>\n",
       "      <th>14332</th>\n",
       "      <td>460964455</td>\n",
       "      <td>way</td>\n",
       "      <td>1</td>\n",
       "      <td>0.0</td>\n",
       "      <td>5</td>\n",
       "      <td>0.00</td>\n",
       "      <td>NaN</td>\n",
       "      <td>44569751</td>\n",
       "      <td>1482340168</td>\n",
       "      <td>5001228</td>\n",
       "      <td>coffeena</td>\n",
       "      <td>6.0</td>\n",
       "      <td>111.0</td>\n",
       "      <td>0.0</td>\n",
       "      <td>0</td>\n",
       "    </tr>\n",
       "  </tbody>\n",
       "</table>\n",
       "</div>"
      ],
      "text/plain": [
       "       feature_id feature_type  feature_version  feature_area  \\\n",
       "2512    379854480          way                1           0.0   \n",
       "14332   460964455          way                1           0.0   \n",
       "\n",
       "       feature_coordinates  feature_bbox_area name  changeset_id  \\\n",
       "2512                   113           61835.21  NaN      35253097   \n",
       "14332                    5               0.00  NaN      44569751   \n",
       "\n",
       "       changeset_timestamp  user_id  user_name  user_changesets  \\\n",
       "2512            1447295513   139555  DavidJDBA          25832.0   \n",
       "14332           1482340168  5001228   coffeena              6.0   \n",
       "\n",
       "       user_features  feature_bbox_percentage  name_length  \n",
       "2512       4168328.0                      0.0            0  \n",
       "14332          111.0                      0.0            0  "
      ]
     },
     "execution_count": 10,
     "metadata": {},
     "output_type": "execute_result"
    }
   ],
   "source": [
    "temp = features[(features['feature_type'] == 'way') & (features['feature_area'] == 0)]\n",
    "print('Number of features: {}'.format(temp.shape[0]))\n",
    "temp.head(10)"
   ]
  },
  {
   "cell_type": "markdown",
   "metadata": {},
   "source": [
    "- Feature: http://www.openstreetmap.org/way/414865128\n",
    "- Area of the lake is `0` as the way is un-closed.\n",
    "\n",
    "<img width=\"1227\" alt=\"screen shot 2017-03-22 at 8 08 41 am\" src=\"https://cloud.githubusercontent.com/assets/2899501/24179721/d34f646e-0ed6-11e7-84d3-c1aee71e6975.png\">\n",
    "\n",
    "- Feature: http://www.openstreetmap.org/way/341953722\n",
    "- Although visually looking great, the area is `0` as the geometry type is a `LineString` and not a `Polygon`\n",
    "\n",
    "<img width=\"1227\" alt=\"screen shot 2017-03-22 at 8 15 34 am\" src=\"https://cloud.githubusercontent.com/assets/2899501/24179888/effd55c0-0ed7-11e7-933b-ec177fde97b5.png\">"
   ]
  },
  {
   "cell_type": "markdown",
   "metadata": {},
   "source": [
    "# Feature 2 - Number of coordinanates in the feature"
   ]
  },
  {
   "cell_type": "code",
   "execution_count": 11,
   "metadata": {
    "collapsed": false
   },
   "outputs": [
    {
     "name": "stdout",
     "output_type": "stream",
     "text": [
      "Features with coordinates less than or equal to harmful lake: 628\n",
      "Features with coordinates greater than harmful lake: 13916\n"
     ]
    },
    {
     "data": {
      "text/plain": [
       "count    14544.000000\n",
       "mean        43.079827\n",
       "std        107.268341\n",
       "min          1.000000\n",
       "25%         15.000000\n",
       "50%         25.000000\n",
       "75%         44.000000\n",
       "max       6497.000000\n",
       "Name: feature_coordinates, dtype: float64"
      ]
     },
     "execution_count": 11,
     "metadata": {},
     "output_type": "execute_result"
    }
   ],
   "source": [
    "feature_coordinates_harmful = 7\n",
    "print('Features with coordinates less than or equal to harmful lake: {}'.format(features[features['feature_coordinates'] <= feature_coordinates_harmful].shape[0]))\n",
    "print('Features with coordinates greater than harmful lake: {}'.format(features[features['feature_coordinates'] > feature_coordinates_harmful].shape[0]))\n",
    "features['feature_coordinates'].describe()"
   ]
  },
  {
   "cell_type": "code",
   "execution_count": 12,
   "metadata": {
    "collapsed": false
   },
   "outputs": [
    {
     "data": {
      "image/png": "[encoded data removed]",
      "text/plain": [
       "<matplotlib.figure.Figure at 0x113355c50>"
      ]
     },
     "metadata": {
      "image/png": {
       "height": 476,
       "width": 708
      }
     },
     "output_type": "display_data"
    }
   ],
   "source": [
    "ax = features['feature_coordinates'].plot.hist()\n",
    "ax.set_yscale('log')"
   ]
  },
  {
   "cell_type": "markdown",
   "metadata": {},
   "source": [
    "## How do features with few coordinates look like?"
   ]
  },
  {
   "cell_type": "code",
   "execution_count": 14,
   "metadata": {
    "collapsed": false
   },
   "outputs": [
    {
     "name": "stdout",
     "output_type": "stream",
     "text": [
      "Number of features: 19\n"
     ]
    },
    {
     "data": {
      "text/html": [
       "<div>\n",
       "<table border=\"1\" class=\"dataframe\">\n",
       "  <thead>\n",
       "    <tr style=\"text-align: right;\">\n",
       "      <th></th>\n",
       "      <th>feature_id</th>\n",
       "      <th>feature_type</th>\n",
       "      <th>feature_version</th>\n",
       "      <th>feature_area</th>\n",
       "      <th>feature_coordinates</th>\n",
       "      <th>feature_bbox_area</th>\n",
       "      <th>name</th>\n",
       "      <th>changeset_id</th>\n",
       "      <th>changeset_timestamp</th>\n",
       "      <th>user_id</th>\n",
       "      <th>user_name</th>\n",
       "      <th>user_changesets</th>\n",
       "      <th>user_features</th>\n",
       "      <th>feature_bbox_percentage</th>\n",
       "      <th>name_length</th>\n",
       "    </tr>\n",
       "  </thead>\n",
       "  <tbody>\n",
       "    <tr>\n",
       "      <th>1249</th>\n",
       "      <td>292023847</td>\n",
       "      <td>way</td>\n",
       "      <td>1</td>\n",
       "      <td>161724.48</td>\n",
       "      <td>4</td>\n",
       "      <td>539011.74</td>\n",
       "      <td>Cranberry Lake</td>\n",
       "      <td>24038087</td>\n",
       "      <td>1404880247</td>\n",
       "      <td>2174491</td>\n",
       "      <td>dbhunter</td>\n",
       "      <td>19.0</td>\n",
       "      <td>79.0</td>\n",
       "      <td>0.300039</td>\n",
       "      <td>14</td>\n",
       "    </tr>\n",
       "    <tr>\n",
       "      <th>3687</th>\n",
       "      <td>469264721</td>\n",
       "      <td>way</td>\n",
       "      <td>1</td>\n",
       "      <td>2454.64</td>\n",
       "      <td>4</td>\n",
       "      <td>5628.02</td>\n",
       "      <td>NaN</td>\n",
       "      <td>45537023</td>\n",
       "      <td>1485479067</td>\n",
       "      <td>5083495</td>\n",
       "      <td>Choopy</td>\n",
       "      <td>3.0</td>\n",
       "      <td>59.0</td>\n",
       "      <td>0.436146</td>\n",
       "      <td>0</td>\n",
       "    </tr>\n",
       "    <tr>\n",
       "      <th>3688</th>\n",
       "      <td>469264722</td>\n",
       "      <td>way</td>\n",
       "      <td>1</td>\n",
       "      <td>821.07</td>\n",
       "      <td>4</td>\n",
       "      <td>1693.60</td>\n",
       "      <td>NaN</td>\n",
       "      <td>45537023</td>\n",
       "      <td>1485479067</td>\n",
       "      <td>5083495</td>\n",
       "      <td>Choopy</td>\n",
       "      <td>3.0</td>\n",
       "      <td>59.0</td>\n",
       "      <td>0.484808</td>\n",
       "      <td>0</td>\n",
       "    </tr>\n",
       "    <tr>\n",
       "      <th>4135</th>\n",
       "      <td>309847488</td>\n",
       "      <td>way</td>\n",
       "      <td>1</td>\n",
       "      <td>26077.64</td>\n",
       "      <td>4</td>\n",
       "      <td>90971.73</td>\n",
       "      <td>Eagle Lake</td>\n",
       "      <td>26353920</td>\n",
       "      <td>1414371444</td>\n",
       "      <td>2414549</td>\n",
       "      <td>mdd5181</td>\n",
       "      <td>25.0</td>\n",
       "      <td>73.0</td>\n",
       "      <td>0.286657</td>\n",
       "      <td>10</td>\n",
       "    </tr>\n",
       "    <tr>\n",
       "      <th>4439</th>\n",
       "      <td>470063404</td>\n",
       "      <td>way</td>\n",
       "      <td>1</td>\n",
       "      <td>325.54</td>\n",
       "      <td>4</td>\n",
       "      <td>1201.30</td>\n",
       "      <td>Lake Matt</td>\n",
       "      <td>45634461</td>\n",
       "      <td>1485729820</td>\n",
       "      <td>5223001</td>\n",
       "      <td>MattForce</td>\n",
       "      <td>5.0</td>\n",
       "      <td>86.0</td>\n",
       "      <td>0.270990</td>\n",
       "      <td>9</td>\n",
       "    </tr>\n",
       "    <tr>\n",
       "      <th>8035</th>\n",
       "      <td>361995836</td>\n",
       "      <td>way</td>\n",
       "      <td>1</td>\n",
       "      <td>2341.22</td>\n",
       "      <td>4</td>\n",
       "      <td>5510.94</td>\n",
       "      <td>NaN</td>\n",
       "      <td>32840651</td>\n",
       "      <td>1437707746</td>\n",
       "      <td>2077000</td>\n",
       "      <td>Kirbert</td>\n",
       "      <td>15028.0</td>\n",
       "      <td>1073351.0</td>\n",
       "      <td>0.424831</td>\n",
       "      <td>0</td>\n",
       "    </tr>\n",
       "    <tr>\n",
       "      <th>8303</th>\n",
       "      <td>379093790</td>\n",
       "      <td>way</td>\n",
       "      <td>1</td>\n",
       "      <td>2732.35</td>\n",
       "      <td>4</td>\n",
       "      <td>5464.70</td>\n",
       "      <td>NaN</td>\n",
       "      <td>35171258</td>\n",
       "      <td>1446995634</td>\n",
       "      <td>2077000</td>\n",
       "      <td>Kirbert</td>\n",
       "      <td>15028.0</td>\n",
       "      <td>1073351.0</td>\n",
       "      <td>0.500000</td>\n",
       "      <td>0</td>\n",
       "    </tr>\n",
       "    <tr>\n",
       "      <th>9260</th>\n",
       "      <td>448563942</td>\n",
       "      <td>way</td>\n",
       "      <td>1</td>\n",
       "      <td>16087.54</td>\n",
       "      <td>4</td>\n",
       "      <td>32268.36</td>\n",
       "      <td>Hidden Lake</td>\n",
       "      <td>43019491</td>\n",
       "      <td>1476910172</td>\n",
       "      <td>4749832</td>\n",
       "      <td>David Dornier</td>\n",
       "      <td>8.0</td>\n",
       "      <td>148.0</td>\n",
       "      <td>0.498555</td>\n",
       "      <td>11</td>\n",
       "    </tr>\n",
       "    <tr>\n",
       "      <th>9375</th>\n",
       "      <td>462215777</td>\n",
       "      <td>way</td>\n",
       "      <td>1</td>\n",
       "      <td>3714.05</td>\n",
       "      <td>4</td>\n",
       "      <td>7498.86</td>\n",
       "      <td>NaN</td>\n",
       "      <td>44718506</td>\n",
       "      <td>1482882680</td>\n",
       "      <td>2077000</td>\n",
       "      <td>Kirbert</td>\n",
       "      <td>15028.0</td>\n",
       "      <td>1073351.0</td>\n",
       "      <td>0.495282</td>\n",
       "      <td>0</td>\n",
       "    </tr>\n",
       "    <tr>\n",
       "      <th>9835</th>\n",
       "      <td>479926721</td>\n",
       "      <td>way</td>\n",
       "      <td>1</td>\n",
       "      <td>3.31</td>\n",
       "      <td>4</td>\n",
       "      <td>7.05</td>\n",
       "      <td>wood lake</td>\n",
       "      <td>46769714</td>\n",
       "      <td>1489259609</td>\n",
       "      <td>5464266</td>\n",
       "      <td>Rustywood</td>\n",
       "      <td>14.0</td>\n",
       "      <td>103.0</td>\n",
       "      <td>0.469504</td>\n",
       "      <td>9</td>\n",
       "    </tr>\n",
       "  </tbody>\n",
       "</table>\n",
       "</div>"
      ],
      "text/plain": [
       "      feature_id feature_type  feature_version  feature_area  \\\n",
       "1249   292023847          way                1     161724.48   \n",
       "3687   469264721          way                1       2454.64   \n",
       "3688   469264722          way                1        821.07   \n",
       "4135   309847488          way                1      26077.64   \n",
       "4439   470063404          way                1        325.54   \n",
       "8035   361995836          way                1       2341.22   \n",
       "8303   379093790          way                1       2732.35   \n",
       "9260   448563942          way                1      16087.54   \n",
       "9375   462215777          way                1       3714.05   \n",
       "9835   479926721          way                1          3.31   \n",
       "\n",
       "      feature_coordinates  feature_bbox_area            name  changeset_id  \\\n",
       "1249                    4          539011.74  Cranberry Lake      24038087   \n",
       "3687                    4            5628.02             NaN      45537023   \n",
       "3688                    4            1693.60             NaN      45537023   \n",
       "4135                    4           90971.73      Eagle Lake      26353920   \n",
       "4439                    4            1201.30       Lake Matt      45634461   \n",
       "8035                    4            5510.94             NaN      32840651   \n",
       "8303                    4            5464.70             NaN      35171258   \n",
       "9260                    4           32268.36     Hidden Lake      43019491   \n",
       "9375                    4            7498.86             NaN      44718506   \n",
       "9835                    4               7.05       wood lake      46769714   \n",
       "\n",
       "      changeset_timestamp  user_id      user_name  user_changesets  \\\n",
       "1249           1404880247  2174491       dbhunter             19.0   \n",
       "3687           1485479067  5083495         Choopy              3.0   \n",
       "3688           1485479067  5083495         Choopy              3.0   \n",
       "4135           1414371444  2414549        mdd5181             25.0   \n",
       "4439           1485729820  5223001      MattForce              5.0   \n",
       "8035           1437707746  2077000        Kirbert          15028.0   \n",
       "8303           1446995634  2077000        Kirbert          15028.0   \n",
       "9260           1476910172  4749832  David Dornier              8.0   \n",
       "9375           1482882680  2077000        Kirbert          15028.0   \n",
       "9835           1489259609  5464266      Rustywood             14.0   \n",
       "\n",
       "      user_features  feature_bbox_percentage  name_length  \n",
       "1249           79.0                 0.300039           14  \n",
       "3687           59.0                 0.436146            0  \n",
       "3688           59.0                 0.484808            0  \n",
       "4135           73.0                 0.286657           10  \n",
       "4439           86.0                 0.270990            9  \n",
       "8035      1073351.0                 0.424831            0  \n",
       "8303      1073351.0                 0.500000            0  \n",
       "9260          148.0                 0.498555           11  \n",
       "9375      1073351.0                 0.495282            0  \n",
       "9835          103.0                 0.469504            9  "
      ]
     },
     "execution_count": 14,
     "metadata": {},
     "output_type": "execute_result"
    }
   ],
   "source": [
    "# A polygon should have atleast 3 coordinates.\n",
    "temp = features[(features['feature_type'] != 'node') & (features['feature_coordinates'] < 5)]\n",
    "print('Number of features: {}'.format(temp.shape[0]))\n",
    "temp.head(10)"
   ]
  },
  {
   "cell_type": "markdown",
   "metadata": {},
   "source": [
    "## How do features with lots of coordinates look like?"
   ]
  },
  {
   "cell_type": "code",
   "execution_count": 20,
   "metadata": {
    "collapsed": false
   },
   "outputs": [
    {
     "data": {
      "text/html": [
       "<div>\n",
       "<table border=\"1\" class=\"dataframe\">\n",
       "  <thead>\n",
       "    <tr style=\"text-align: right;\">\n",
       "      <th></th>\n",
       "      <th>feature_id</th>\n",
       "      <th>feature_type</th>\n",
       "      <th>feature_version</th>\n",
       "      <th>feature_area</th>\n",
       "      <th>feature_coordinates</th>\n",
       "      <th>feature_bbox_area</th>\n",
       "      <th>name</th>\n",
       "      <th>changeset_id</th>\n",
       "      <th>changeset_timestamp</th>\n",
       "      <th>user_id</th>\n",
       "      <th>user_name</th>\n",
       "      <th>user_changesets</th>\n",
       "      <th>user_features</th>\n",
       "      <th>feature_bbox_percentage</th>\n",
       "      <th>name_length</th>\n",
       "    </tr>\n",
       "  </thead>\n",
       "  <tbody>\n",
       "    <tr>\n",
       "      <th>4310</th>\n",
       "      <td>6376044</td>\n",
       "      <td>relation</td>\n",
       "      <td>1</td>\n",
       "      <td>60103155.73</td>\n",
       "      <td>6497</td>\n",
       "      <td>6.959718e+08</td>\n",
       "      <td>NaN</td>\n",
       "      <td>40435143</td>\n",
       "      <td>1467446765</td>\n",
       "      <td>130472</td>\n",
       "      <td>fx99</td>\n",
       "      <td>21976.0</td>\n",
       "      <td>2623380.0</td>\n",
       "      <td>0.086359</td>\n",
       "      <td>0</td>\n",
       "    </tr>\n",
       "    <tr>\n",
       "      <th>11058</th>\n",
       "      <td>4046494</td>\n",
       "      <td>relation</td>\n",
       "      <td>1</td>\n",
       "      <td>41840675.85</td>\n",
       "      <td>5655</td>\n",
       "      <td>1.514001e+08</td>\n",
       "      <td>NaN</td>\n",
       "      <td>25490887</td>\n",
       "      <td>1410912245</td>\n",
       "      <td>437598</td>\n",
       "      <td>dmgroom_ct</td>\n",
       "      <td>13266.0</td>\n",
       "      <td>2847271.0</td>\n",
       "      <td>0.276358</td>\n",
       "      <td>0</td>\n",
       "    </tr>\n",
       "    <tr>\n",
       "      <th>6954</th>\n",
       "      <td>3207630</td>\n",
       "      <td>relation</td>\n",
       "      <td>1</td>\n",
       "      <td>3619257.45</td>\n",
       "      <td>3287</td>\n",
       "      <td>1.688499e+07</td>\n",
       "      <td>NaN</td>\n",
       "      <td>17842802</td>\n",
       "      <td>1379211912</td>\n",
       "      <td>369983</td>\n",
       "      <td>grouper</td>\n",
       "      <td>3893.0</td>\n",
       "      <td>2137635.0</td>\n",
       "      <td>0.214348</td>\n",
       "      <td>0</td>\n",
       "    </tr>\n",
       "    <tr>\n",
       "      <th>4311</th>\n",
       "      <td>6376123</td>\n",
       "      <td>relation</td>\n",
       "      <td>1</td>\n",
       "      <td>32521009.66</td>\n",
       "      <td>2464</td>\n",
       "      <td>1.937627e+08</td>\n",
       "      <td>Grand Lake</td>\n",
       "      <td>40435218</td>\n",
       "      <td>1467447054</td>\n",
       "      <td>130472</td>\n",
       "      <td>fx99</td>\n",
       "      <td>21976.0</td>\n",
       "      <td>2623380.0</td>\n",
       "      <td>0.167839</td>\n",
       "      <td>10</td>\n",
       "    </tr>\n",
       "    <tr>\n",
       "      <th>6953</th>\n",
       "      <td>3207623</td>\n",
       "      <td>relation</td>\n",
       "      <td>1</td>\n",
       "      <td>2878711.67</td>\n",
       "      <td>2263</td>\n",
       "      <td>1.466996e+07</td>\n",
       "      <td>NaN</td>\n",
       "      <td>17842802</td>\n",
       "      <td>1379211908</td>\n",
       "      <td>369983</td>\n",
       "      <td>grouper</td>\n",
       "      <td>3893.0</td>\n",
       "      <td>2137635.0</td>\n",
       "      <td>0.196232</td>\n",
       "      <td>0</td>\n",
       "    </tr>\n",
       "    <tr>\n",
       "      <th>6936</th>\n",
       "      <td>3207570</td>\n",
       "      <td>relation</td>\n",
       "      <td>1</td>\n",
       "      <td>3819808.87</td>\n",
       "      <td>2208</td>\n",
       "      <td>1.534790e+07</td>\n",
       "      <td>NaN</td>\n",
       "      <td>17842402</td>\n",
       "      <td>1379205838</td>\n",
       "      <td>369983</td>\n",
       "      <td>grouper</td>\n",
       "      <td>3893.0</td>\n",
       "      <td>2137635.0</td>\n",
       "      <td>0.248882</td>\n",
       "      <td>0</td>\n",
       "    </tr>\n",
       "    <tr>\n",
       "      <th>46</th>\n",
       "      <td>4064161</td>\n",
       "      <td>relation</td>\n",
       "      <td>1</td>\n",
       "      <td>4947298.95</td>\n",
       "      <td>1977</td>\n",
       "      <td>4.273949e+07</td>\n",
       "      <td>Beaver Dam Lake</td>\n",
       "      <td>25655365</td>\n",
       "      <td>1411599368</td>\n",
       "      <td>1751737</td>\n",
       "      <td>Skybunny</td>\n",
       "      <td>17162.0</td>\n",
       "      <td>687813.0</td>\n",
       "      <td>0.115755</td>\n",
       "      <td>15</td>\n",
       "    </tr>\n",
       "    <tr>\n",
       "      <th>2656</th>\n",
       "      <td>5839818</td>\n",
       "      <td>relation</td>\n",
       "      <td>1</td>\n",
       "      <td>2114365.81</td>\n",
       "      <td>1887</td>\n",
       "      <td>1.634256e+07</td>\n",
       "      <td>Deer Lake</td>\n",
       "      <td>36456326</td>\n",
       "      <td>1452298302</td>\n",
       "      <td>1743198</td>\n",
       "      <td>ItalianMustache</td>\n",
       "      <td>18094.0</td>\n",
       "      <td>1259373.0</td>\n",
       "      <td>0.129378</td>\n",
       "      <td>9</td>\n",
       "    </tr>\n",
       "    <tr>\n",
       "      <th>7486</th>\n",
       "      <td>3814619</td>\n",
       "      <td>relation</td>\n",
       "      <td>1</td>\n",
       "      <td>13365780.26</td>\n",
       "      <td>1724</td>\n",
       "      <td>8.209856e+07</td>\n",
       "      <td>Big Creek Lake</td>\n",
       "      <td>22879799</td>\n",
       "      <td>1402522705</td>\n",
       "      <td>22925</td>\n",
       "      <td>ELadner</td>\n",
       "      <td>7126.0</td>\n",
       "      <td>6733259.0</td>\n",
       "      <td>0.162802</td>\n",
       "      <td>14</td>\n",
       "    </tr>\n",
       "    <tr>\n",
       "      <th>7863</th>\n",
       "      <td>4849586</td>\n",
       "      <td>relation</td>\n",
       "      <td>1</td>\n",
       "      <td>4856954.60</td>\n",
       "      <td>1418</td>\n",
       "      <td>1.129146e+07</td>\n",
       "      <td>NaN</td>\n",
       "      <td>30646202</td>\n",
       "      <td>1430370479</td>\n",
       "      <td>574654</td>\n",
       "      <td>Tom_Holland</td>\n",
       "      <td>6851.0</td>\n",
       "      <td>1551941.0</td>\n",
       "      <td>0.430144</td>\n",
       "      <td>0</td>\n",
       "    </tr>\n",
       "  </tbody>\n",
       "</table>\n",
       "</div>"
      ],
      "text/plain": [
       "       feature_id feature_type  feature_version  feature_area  \\\n",
       "4310      6376044     relation                1   60103155.73   \n",
       "11058     4046494     relation                1   41840675.85   \n",
       "6954      3207630     relation                1    3619257.45   \n",
       "4311      6376123     relation                1   32521009.66   \n",
       "6953      3207623     relation                1    2878711.67   \n",
       "6936      3207570     relation                1    3819808.87   \n",
       "46        4064161     relation                1    4947298.95   \n",
       "2656      5839818     relation                1    2114365.81   \n",
       "7486      3814619     relation                1   13365780.26   \n",
       "7863      4849586     relation                1    4856954.60   \n",
       "\n",
       "       feature_coordinates  feature_bbox_area             name  changeset_id  \\\n",
       "4310                  6497       6.959718e+08              NaN      40435143   \n",
       "11058                 5655       1.514001e+08              NaN      25490887   \n",
       "6954                  3287       1.688499e+07              NaN      17842802   \n",
       "4311                  2464       1.937627e+08       Grand Lake      40435218   \n",
       "6953                  2263       1.466996e+07              NaN      17842802   \n",
       "6936                  2208       1.534790e+07              NaN      17842402   \n",
       "46                    1977       4.273949e+07  Beaver Dam Lake      25655365   \n",
       "2656                  1887       1.634256e+07        Deer Lake      36456326   \n",
       "7486                  1724       8.209856e+07   Big Creek Lake      22879799   \n",
       "7863                  1418       1.129146e+07              NaN      30646202   \n",
       "\n",
       "       changeset_timestamp  user_id        user_name  user_changesets  \\\n",
       "4310            1467446765   130472             fx99          21976.0   \n",
       "11058           1410912245   437598       dmgroom_ct          13266.0   \n",
       "6954            1379211912   369983          grouper           3893.0   \n",
       "4311            1467447054   130472             fx99          21976.0   \n",
       "6953            1379211908   369983          grouper           3893.0   \n",
       "6936            1379205838   369983          grouper           3893.0   \n",
       "46              1411599368  1751737         Skybunny          17162.0   \n",
       "2656            1452298302  1743198  ItalianMustache          18094.0   \n",
       "7486            1402522705    22925          ELadner           7126.0   \n",
       "7863            1430370479   574654      Tom_Holland           6851.0   \n",
       "\n",
       "       user_features  feature_bbox_percentage  name_length  \n",
       "4310       2623380.0                 0.086359            0  \n",
       "11058      2847271.0                 0.276358            0  \n",
       "6954       2137635.0                 0.214348            0  \n",
       "4311       2623380.0                 0.167839           10  \n",
       "6953       2137635.0                 0.196232            0  \n",
       "6936       2137635.0                 0.248882            0  \n",
       "46          687813.0                 0.115755           15  \n",
       "2656       1259373.0                 0.129378            9  \n",
       "7486       6733259.0                 0.162802           14  \n",
       "7863       1551941.0                 0.430144            0  "
      ]
     },
     "execution_count": 20,
     "metadata": {},
     "output_type": "execute_result"
    }
   ],
   "source": [
    "features[features['feature_coordinates'] > 600].sort_values(by='feature_coordinates', ascending=False).head(10)"
   ]
  },
  {
   "cell_type": "markdown",
   "metadata": {},
   "source": [
    "- Lakes tend to have higher number of coordinates, the mean being `33`.\n",
    "- Larger lakes tend to be mapped as relations as the largest v1 lake, [way/410107988](http://www.openstreetmap.org/way/410107988) has 697 coordinates."
   ]
  },
  {
   "cell_type": "markdown",
   "metadata": {},
   "source": [
    "# Feature 3 - Percentage of bbox actually covered by feature\n",
    "\n",
    "- A square feature covers the entire bbox and thus will have a percentage of 100%.\n",
    "- The more square like or rectangular the feature, the higher the percentage.\n",
    "- NOTE: Square features that are not orthogonal won't have 100% as the feature bbox's are always orthogonal."
   ]
  },
  {
   "cell_type": "code",
   "execution_count": 21,
   "metadata": {
    "collapsed": false
   },
   "outputs": [
    {
     "name": "stdout",
     "output_type": "stream",
     "text": [
      "Features with percenrage lesser than or equal to harmful lake: 13974\n",
      "Features with percenrage greater than harmful lake: 570\n"
     ]
    },
    {
     "data": {
      "text/plain": [
       "count    14544.000000\n",
       "mean         0.532616\n",
       "std          0.165220\n",
       "min          0.000000\n",
       "25%          0.421970\n",
       "50%          0.550149\n",
       "75%          0.658538\n",
       "max          0.996223\n",
       "Name: feature_bbox_percentage, dtype: float64"
      ]
     },
     "execution_count": 21,
     "metadata": {},
     "output_type": "execute_result"
    }
   ],
   "source": [
    "feature_bbox_percentage_harmful = 0.78\n",
    "print('Features with percenrage lesser than or equal to harmful lake: {}'.format(features[features['feature_bbox_percentage'] <= feature_bbox_percentage_harmful].shape[0]))\n",
    "print('Features with percenrage greater than harmful lake: {}'.format(features[features['feature_bbox_percentage'] > feature_bbox_percentage_harmful].shape[0]))\n",
    "features['feature_bbox_percentage'].describe()"
   ]
  },
  {
   "cell_type": "code",
   "execution_count": 22,
   "metadata": {
    "collapsed": false
   },
   "outputs": [
    {
     "data": {
      "image/png": "[encoded data removed]",
      "text/plain": [
       "<matplotlib.figure.Figure at 0x110423748>"
      ]
     },
     "metadata": {
      "image/png": {
       "height": 535,
       "width": 783
      }
     },
     "output_type": "display_data"
    }
   ],
   "source": [
    "ax = features['feature_bbox_percentage'].plot.hist()\n",
    "ax.set_xlabel('Percentage of feature bbox actually covered by the feature')\n",
    "plt.tight_layout()"
   ]
  },
  {
   "cell_type": "markdown",
   "metadata": {},
   "source": [
    "### Percentage of the feature bbox actually covered by feature is 100%"
   ]
  },
  {
   "cell_type": "code",
   "execution_count": 26,
   "metadata": {
    "collapsed": false
   },
   "outputs": [
    {
     "data": {
      "text/html": [
       "<div>\n",
       "<table border=\"1\" class=\"dataframe\">\n",
       "  <thead>\n",
       "    <tr style=\"text-align: right;\">\n",
       "      <th></th>\n",
       "      <th>feature_id</th>\n",
       "      <th>feature_type</th>\n",
       "      <th>feature_version</th>\n",
       "      <th>feature_area</th>\n",
       "      <th>feature_coordinates</th>\n",
       "      <th>feature_bbox_area</th>\n",
       "      <th>name</th>\n",
       "      <th>changeset_id</th>\n",
       "      <th>changeset_timestamp</th>\n",
       "      <th>user_id</th>\n",
       "      <th>user_name</th>\n",
       "      <th>user_changesets</th>\n",
       "      <th>user_features</th>\n",
       "      <th>feature_bbox_percentage</th>\n",
       "      <th>name_length</th>\n",
       "    </tr>\n",
       "  </thead>\n",
       "  <tbody>\n",
       "    <tr>\n",
       "      <th>3981</th>\n",
       "      <td>481895290</td>\n",
       "      <td>way</td>\n",
       "      <td>1</td>\n",
       "      <td>60.67</td>\n",
       "      <td>5</td>\n",
       "      <td>60.90</td>\n",
       "      <td>NaN</td>\n",
       "      <td>47055069</td>\n",
       "      <td>1490142878</td>\n",
       "      <td>5460476</td>\n",
       "      <td>V1R4G3</td>\n",
       "      <td>1.0</td>\n",
       "      <td>30.0</td>\n",
       "      <td>0.996223</td>\n",
       "      <td>0</td>\n",
       "    </tr>\n",
       "    <tr>\n",
       "      <th>14410</th>\n",
       "      <td>469567073</td>\n",
       "      <td>way</td>\n",
       "      <td>1</td>\n",
       "      <td>1270.19</td>\n",
       "      <td>5</td>\n",
       "      <td>1277.61</td>\n",
       "      <td>NaN</td>\n",
       "      <td>45576714</td>\n",
       "      <td>1485555751</td>\n",
       "      <td>5210247</td>\n",
       "      <td>Julianislit</td>\n",
       "      <td>14.0</td>\n",
       "      <td>81.0</td>\n",
       "      <td>0.994192</td>\n",
       "      <td>0</td>\n",
       "    </tr>\n",
       "    <tr>\n",
       "      <th>7706</th>\n",
       "      <td>312937539</td>\n",
       "      <td>way</td>\n",
       "      <td>1</td>\n",
       "      <td>2895.50</td>\n",
       "      <td>5</td>\n",
       "      <td>2916.61</td>\n",
       "      <td>NaN</td>\n",
       "      <td>26801093</td>\n",
       "      <td>1416066434</td>\n",
       "      <td>2397497</td>\n",
       "      <td>williehlh</td>\n",
       "      <td>38.0</td>\n",
       "      <td>180.0</td>\n",
       "      <td>0.992762</td>\n",
       "      <td>0</td>\n",
       "    </tr>\n",
       "    <tr>\n",
       "      <th>14362</th>\n",
       "      <td>468637460</td>\n",
       "      <td>way</td>\n",
       "      <td>1</td>\n",
       "      <td>7991.38</td>\n",
       "      <td>6</td>\n",
       "      <td>8084.14</td>\n",
       "      <td>NaN</td>\n",
       "      <td>45462944</td>\n",
       "      <td>1485323547</td>\n",
       "      <td>5187119</td>\n",
       "      <td>octagone</td>\n",
       "      <td>2.0</td>\n",
       "      <td>15.0</td>\n",
       "      <td>0.988526</td>\n",
       "      <td>0</td>\n",
       "    </tr>\n",
       "    <tr>\n",
       "      <th>14408</th>\n",
       "      <td>469560333</td>\n",
       "      <td>way</td>\n",
       "      <td>1</td>\n",
       "      <td>401.82</td>\n",
       "      <td>5</td>\n",
       "      <td>409.28</td>\n",
       "      <td>NaN</td>\n",
       "      <td>45575806</td>\n",
       "      <td>1485553516</td>\n",
       "      <td>5210247</td>\n",
       "      <td>Julianislit</td>\n",
       "      <td>14.0</td>\n",
       "      <td>81.0</td>\n",
       "      <td>0.981773</td>\n",
       "      <td>0</td>\n",
       "    </tr>\n",
       "    <tr>\n",
       "      <th>7295</th>\n",
       "      <td>278044607</td>\n",
       "      <td>way</td>\n",
       "      <td>1</td>\n",
       "      <td>9120.03</td>\n",
       "      <td>9</td>\n",
       "      <td>9299.67</td>\n",
       "      <td>NaN</td>\n",
       "      <td>22026815</td>\n",
       "      <td>1398790671</td>\n",
       "      <td>2014354</td>\n",
       "      <td>WIJG</td>\n",
       "      <td>25.0</td>\n",
       "      <td>3600.0</td>\n",
       "      <td>0.980683</td>\n",
       "      <td>0</td>\n",
       "    </tr>\n",
       "    <tr>\n",
       "      <th>14382</th>\n",
       "      <td>469257767</td>\n",
       "      <td>way</td>\n",
       "      <td>1</td>\n",
       "      <td>20483.28</td>\n",
       "      <td>5</td>\n",
       "      <td>21068.30</td>\n",
       "      <td>NaN</td>\n",
       "      <td>45536604</td>\n",
       "      <td>1485478146</td>\n",
       "      <td>5202922</td>\n",
       "      <td>mappernate</td>\n",
       "      <td>7.0</td>\n",
       "      <td>105.0</td>\n",
       "      <td>0.972232</td>\n",
       "      <td>0</td>\n",
       "    </tr>\n",
       "    <tr>\n",
       "      <th>3671</th>\n",
       "      <td>468618328</td>\n",
       "      <td>way</td>\n",
       "      <td>1</td>\n",
       "      <td>194.21</td>\n",
       "      <td>5</td>\n",
       "      <td>200.87</td>\n",
       "      <td>NaN</td>\n",
       "      <td>45461650</td>\n",
       "      <td>1485320278</td>\n",
       "      <td>5184361</td>\n",
       "      <td>MZece</td>\n",
       "      <td>23.0</td>\n",
       "      <td>359.0</td>\n",
       "      <td>0.966844</td>\n",
       "      <td>0</td>\n",
       "    </tr>\n",
       "    <tr>\n",
       "      <th>7553</th>\n",
       "      <td>305726151</td>\n",
       "      <td>way</td>\n",
       "      <td>1</td>\n",
       "      <td>5690.37</td>\n",
       "      <td>13</td>\n",
       "      <td>5897.16</td>\n",
       "      <td>NaN</td>\n",
       "      <td>25769883</td>\n",
       "      <td>1412089272</td>\n",
       "      <td>238898</td>\n",
       "      <td>BlueG</td>\n",
       "      <td>1057.0</td>\n",
       "      <td>154046.0</td>\n",
       "      <td>0.964934</td>\n",
       "      <td>0</td>\n",
       "    </tr>\n",
       "    <tr>\n",
       "      <th>9528</th>\n",
       "      <td>468793524</td>\n",
       "      <td>way</td>\n",
       "      <td>1</td>\n",
       "      <td>3070.24</td>\n",
       "      <td>5</td>\n",
       "      <td>3184.21</td>\n",
       "      <td>Thousand Oak Lake</td>\n",
       "      <td>45484685</td>\n",
       "      <td>1485367421</td>\n",
       "      <td>5191193</td>\n",
       "      <td>Naui349</td>\n",
       "      <td>8.0</td>\n",
       "      <td>47.0</td>\n",
       "      <td>0.964208</td>\n",
       "      <td>17</td>\n",
       "    </tr>\n",
       "  </tbody>\n",
       "</table>\n",
       "</div>"
      ],
      "text/plain": [
       "       feature_id feature_type  feature_version  feature_area  \\\n",
       "3981    481895290          way                1         60.67   \n",
       "14410   469567073          way                1       1270.19   \n",
       "7706    312937539          way                1       2895.50   \n",
       "14362   468637460          way                1       7991.38   \n",
       "14408   469560333          way                1        401.82   \n",
       "7295    278044607          way                1       9120.03   \n",
       "14382   469257767          way                1      20483.28   \n",
       "3671    468618328          way                1        194.21   \n",
       "7553    305726151          way                1       5690.37   \n",
       "9528    468793524          way                1       3070.24   \n",
       "\n",
       "       feature_coordinates  feature_bbox_area               name  \\\n",
       "3981                     5              60.90                NaN   \n",
       "14410                    5            1277.61                NaN   \n",
       "7706                     5            2916.61                NaN   \n",
       "14362                    6            8084.14                NaN   \n",
       "14408                    5             409.28                NaN   \n",
       "7295                     9            9299.67                NaN   \n",
       "14382                    5           21068.30                NaN   \n",
       "3671                     5             200.87                NaN   \n",
       "7553                    13            5897.16                NaN   \n",
       "9528                     5            3184.21  Thousand Oak Lake   \n",
       "\n",
       "       changeset_id  changeset_timestamp  user_id    user_name  \\\n",
       "3981       47055069           1490142878  5460476       V1R4G3   \n",
       "14410      45576714           1485555751  5210247  Julianislit   \n",
       "7706       26801093           1416066434  2397497    williehlh   \n",
       "14362      45462944           1485323547  5187119     octagone   \n",
       "14408      45575806           1485553516  5210247  Julianislit   \n",
       "7295       22026815           1398790671  2014354         WIJG   \n",
       "14382      45536604           1485478146  5202922   mappernate   \n",
       "3671       45461650           1485320278  5184361        MZece   \n",
       "7553       25769883           1412089272   238898        BlueG   \n",
       "9528       45484685           1485367421  5191193      Naui349   \n",
       "\n",
       "       user_changesets  user_features  feature_bbox_percentage  name_length  \n",
       "3981               1.0           30.0                 0.996223            0  \n",
       "14410             14.0           81.0                 0.994192            0  \n",
       "7706              38.0          180.0                 0.992762            0  \n",
       "14362              2.0           15.0                 0.988526            0  \n",
       "14408             14.0           81.0                 0.981773            0  \n",
       "7295              25.0         3600.0                 0.980683            0  \n",
       "14382              7.0          105.0                 0.972232            0  \n",
       "3671              23.0          359.0                 0.966844            0  \n",
       "7553            1057.0       154046.0                 0.964934            0  \n",
       "9528               8.0           47.0                 0.964208           17  "
      ]
     },
     "execution_count": 26,
     "metadata": {},
     "output_type": "execute_result"
    }
   ],
   "source": [
    "# The percentages are between 0 and 1.\n",
    "features[features['feature_bbox_percentage'] > 0.9].sort_index(by='feature_bbox_percentage', ascending=False).head(10)"
   ]
  },
  {
   "cell_type": "markdown",
   "metadata": {},
   "source": [
    "- Feature: http://www.openstreetmap.org/way/442498678/\n",
    "- The feature is a rectangular lake created by a new user which he/she later deleted.\n",
    "- TODO: Some false positives show up in the list as percentage=100%\n",
    "\n",
    "<img width=\"1227\" alt=\"screen shot 2017-03-22 at 10 33 36 am\" src=\"https://cloud.githubusercontent.com/assets/2899501/24182988/464e45f2-0eeb-11e7-809a-6d8c006cc137.png\">"
   ]
  },
  {
   "cell_type": "markdown",
   "metadata": {},
   "source": [
    "# Feature 4: Number of changesets of the user"
   ]
  },
  {
   "cell_type": "code",
   "execution_count": 27,
   "metadata": {
    "collapsed": false
   },
   "outputs": [
    {
     "name": "stdout",
     "output_type": "stream",
     "text": [
      "Features with user changesets lesser than or equal to harmful lake: 131\n",
      "Features with user changesets greater than harmful lake: 14397\n"
     ]
    },
    {
     "data": {
      "text/plain": [
       "count     14528.000000\n",
       "mean       6835.408866\n",
       "std        8342.932697\n",
       "min           0.000000\n",
       "25%        1022.000000\n",
       "50%        3893.000000\n",
       "75%       10235.000000\n",
       "max      103333.000000\n",
       "Name: user_changesets, dtype: float64"
      ]
     },
     "execution_count": 27,
     "metadata": {},
     "output_type": "execute_result"
    }
   ],
   "source": [
    "user_changesets_harmful = 3\n",
    "print('Features with user changesets lesser than or equal to harmful lake: {}'.format(features[features['user_changesets'] <= user_changesets_harmful].shape[0]))\n",
    "print('Features with user changesets greater than harmful lake: {}'.format(features[features['user_changesets'] > user_changesets_harmful].shape[0]))\n",
    "features['user_changesets'].describe()"
   ]
  },
  {
   "cell_type": "markdown",
   "metadata": {},
   "source": [
    "- New users don't tend to create lakes.\n",
    "- Just `125` out of `16749` lakes were created by users with changesets 3 or less."
   ]
  },
  {
   "cell_type": "code",
   "execution_count": 28,
   "metadata": {
    "collapsed": false
   },
   "outputs": [
    {
     "data": {
      "image/png": "[encoded data removed]",
      "text/plain": [
       "<matplotlib.figure.Figure at 0x1104204e0>"
      ]
     },
     "metadata": {
      "image/png": {
       "height": 533,
       "width": 782
      }
     },
     "output_type": "display_data"
    }
   ],
   "source": [
    "ax = features.drop_duplicates('user_name')['user_changesets'].plot.hist()\n",
    "ax.set_yscale('log')\n",
    "ax.set_xlabel('Number of changesets of the user')\n",
    "plt.tight_layout()"
   ]
  },
  {
   "cell_type": "markdown",
   "metadata": {},
   "source": [
    "## Lakes created by users with 0 changesets. What? Really?\n",
    "- Issue with osm-comments-api, ticketed out here: https://github.com/mapbox/osm-comments-api/issues/65#issuecomment-288306225"
   ]
  },
  {
   "cell_type": "code",
   "execution_count": 29,
   "metadata": {
    "collapsed": false
   },
   "outputs": [
    {
     "data": {
      "text/html": [
       "<div>\n",
       "<table border=\"1\" class=\"dataframe\">\n",
       "  <thead>\n",
       "    <tr style=\"text-align: right;\">\n",
       "      <th></th>\n",
       "      <th>feature_id</th>\n",
       "      <th>feature_type</th>\n",
       "      <th>feature_version</th>\n",
       "      <th>feature_area</th>\n",
       "      <th>feature_coordinates</th>\n",
       "      <th>feature_bbox_area</th>\n",
       "      <th>name</th>\n",
       "      <th>changeset_id</th>\n",
       "      <th>changeset_timestamp</th>\n",
       "      <th>user_id</th>\n",
       "      <th>user_name</th>\n",
       "      <th>user_changesets</th>\n",
       "      <th>user_features</th>\n",
       "      <th>feature_bbox_percentage</th>\n",
       "      <th>name_length</th>\n",
       "    </tr>\n",
       "  </thead>\n",
       "  <tbody>\n",
       "    <tr>\n",
       "      <th>4473</th>\n",
       "      <td>473632121</td>\n",
       "      <td>way</td>\n",
       "      <td>1</td>\n",
       "      <td>3307.86</td>\n",
       "      <td>17</td>\n",
       "      <td>4821.69</td>\n",
       "      <td>Lake</td>\n",
       "      <td>45954993</td>\n",
       "      <td>1486667152</td>\n",
       "      <td>5290698</td>\n",
       "      <td>DoctorTeeth</td>\n",
       "      <td>0.0</td>\n",
       "      <td>0.0</td>\n",
       "      <td>0.686037</td>\n",
       "      <td>4</td>\n",
       "    </tr>\n",
       "  </tbody>\n",
       "</table>\n",
       "</div>"
      ],
      "text/plain": [
       "      feature_id feature_type  feature_version  feature_area  \\\n",
       "4473   473632121          way                1       3307.86   \n",
       "\n",
       "      feature_coordinates  feature_bbox_area  name  changeset_id  \\\n",
       "4473                   17            4821.69  Lake      45954993   \n",
       "\n",
       "      changeset_timestamp  user_id    user_name  user_changesets  \\\n",
       "4473           1486667152  5290698  DoctorTeeth              0.0   \n",
       "\n",
       "      user_features  feature_bbox_percentage  name_length  \n",
       "4473            0.0                 0.686037            4  "
      ]
     },
     "execution_count": 29,
     "metadata": {},
     "output_type": "execute_result"
    }
   ],
   "source": [
    "features[features['user_changesets'] == 0]"
   ]
  },
  {
   "cell_type": "markdown",
   "metadata": {},
   "source": [
    "- User [DoctorTeeth](http://www.openstreetmap.org/user/DoctorTeeth) is new to OpenStreetMap.\n",
    "- Feature: http://www.openstreetmap.org/way/473631956\n",
    "- Some documentation about mapping best practices would be amazing to share with the user.\n",
    "- Ex: Building has the name `House` and lake has the name `Lake` and sometimes `Water Table`.\n",
    "\n",
    "<img width=\"1227\" alt=\"screen shot 2017-03-22 at 11 53 17 am\" src=\"https://cloud.githubusercontent.com/assets/2899501/24184881/2c670af6-0ef6-11e7-9e66-e16a65f2553e.png\">"
   ]
  },
  {
   "cell_type": "markdown",
   "metadata": {},
   "source": [
    "# Feature 5: Does the lake have a name?"
   ]
  },
  {
   "cell_type": "code",
   "execution_count": 30,
   "metadata": {
    "collapsed": false
   },
   "outputs": [
    {
     "name": "stdout",
     "output_type": "stream",
     "text": [
      "Features with name: 3922\n",
      "Features without name: 10622\n",
      "Percentage of v1 lakes with name: 36%\n"
     ]
    }
   ],
   "source": [
    "name_harmful = None\n",
    "print('Features with name: {}'.format(features['name'].dropna().shape[0]))\n",
    "print('Features without name: {}'.format(features['name'].isnull().sum()))\n",
    "print('Percentage of v1 lakes with name: {}%'.format(int(100.0 * features['name'].dropna().shape[0] / features['name'].isnull().sum())))"
   ]
  },
  {
   "cell_type": "code",
   "execution_count": 31,
   "metadata": {
    "collapsed": false
   },
   "outputs": [
    {
     "data": {
      "text/plain": [
       "<matplotlib.axes._subplots.AxesSubplot at 0x114f450b8>"
      ]
     },
     "execution_count": 31,
     "metadata": {},
     "output_type": "execute_result"
    },
    {
     "data": {
      "image/png": "[encoded data removed]",
      "text/plain": [
       "<matplotlib.figure.Figure at 0x10ee3dc88>"
      ]
     },
     "metadata": {
      "image/png": {
       "height": 475,
       "width": 709
      }
     },
     "output_type": "display_data"
    }
   ],
   "source": [
    "features[features['name_length'] > 0]['name_length'].plot.hist()"
   ]
  },
  {
   "cell_type": "markdown",
   "metadata": {},
   "source": [
    "## What do small names look like?"
   ]
  },
  {
   "cell_type": "code",
   "execution_count": 36,
   "metadata": {
    "collapsed": false
   },
   "outputs": [
    {
     "data": {
      "text/html": [
       "<div>\n",
       "<table border=\"1\" class=\"dataframe\">\n",
       "  <thead>\n",
       "    <tr style=\"text-align: right;\">\n",
       "      <th></th>\n",
       "      <th>feature_id</th>\n",
       "      <th>feature_type</th>\n",
       "      <th>feature_version</th>\n",
       "      <th>feature_area</th>\n",
       "      <th>feature_coordinates</th>\n",
       "      <th>feature_bbox_area</th>\n",
       "      <th>name</th>\n",
       "      <th>changeset_id</th>\n",
       "      <th>changeset_timestamp</th>\n",
       "      <th>user_id</th>\n",
       "      <th>user_name</th>\n",
       "      <th>user_changesets</th>\n",
       "      <th>user_features</th>\n",
       "      <th>feature_bbox_percentage</th>\n",
       "      <th>name_length</th>\n",
       "    </tr>\n",
       "  </thead>\n",
       "  <tbody>\n",
       "    <tr>\n",
       "      <th>12490</th>\n",
       "      <td>361996659</td>\n",
       "      <td>way</td>\n",
       "      <td>1</td>\n",
       "      <td>13137.21</td>\n",
       "      <td>8</td>\n",
       "      <td>17648.35</td>\n",
       "      <td>9641</td>\n",
       "      <td>32840832</td>\n",
       "      <td>1437709429</td>\n",
       "      <td>2937740</td>\n",
       "      <td>BreckT</td>\n",
       "      <td>560.0</td>\n",
       "      <td>44690.0</td>\n",
       "      <td>0.744387</td>\n",
       "      <td>4</td>\n",
       "    </tr>\n",
       "    <tr>\n",
       "      <th>12625</th>\n",
       "      <td>362158588</td>\n",
       "      <td>way</td>\n",
       "      <td>1</td>\n",
       "      <td>67961.47</td>\n",
       "      <td>26</td>\n",
       "      <td>128593.78</td>\n",
       "      <td>9783</td>\n",
       "      <td>32861564</td>\n",
       "      <td>1437774900</td>\n",
       "      <td>2937740</td>\n",
       "      <td>BreckT</td>\n",
       "      <td>560.0</td>\n",
       "      <td>44690.0</td>\n",
       "      <td>0.528497</td>\n",
       "      <td>4</td>\n",
       "    </tr>\n",
       "    <tr>\n",
       "      <th>9855</th>\n",
       "      <td>480129915</td>\n",
       "      <td>way</td>\n",
       "      <td>1</td>\n",
       "      <td>3107.55</td>\n",
       "      <td>17</td>\n",
       "      <td>4475.41</td>\n",
       "      <td>Lake</td>\n",
       "      <td>46801270</td>\n",
       "      <td>1489378117</td>\n",
       "      <td>5460013</td>\n",
       "      <td>Dean Sam</td>\n",
       "      <td>9.0</td>\n",
       "      <td>533.0</td>\n",
       "      <td>0.694361</td>\n",
       "      <td>4</td>\n",
       "    </tr>\n",
       "    <tr>\n",
       "      <th>12546</th>\n",
       "      <td>361999981</td>\n",
       "      <td>way</td>\n",
       "      <td>1</td>\n",
       "      <td>39340.69</td>\n",
       "      <td>19</td>\n",
       "      <td>75200.59</td>\n",
       "      <td>9535</td>\n",
       "      <td>32841086</td>\n",
       "      <td>1437712400</td>\n",
       "      <td>2937740</td>\n",
       "      <td>BreckT</td>\n",
       "      <td>560.0</td>\n",
       "      <td>44690.0</td>\n",
       "      <td>0.523143</td>\n",
       "      <td>4</td>\n",
       "    </tr>\n",
       "    <tr>\n",
       "      <th>12532</th>\n",
       "      <td>361999959</td>\n",
       "      <td>way</td>\n",
       "      <td>1</td>\n",
       "      <td>22184.77</td>\n",
       "      <td>12</td>\n",
       "      <td>38685.51</td>\n",
       "      <td>9053</td>\n",
       "      <td>32841086</td>\n",
       "      <td>1437712398</td>\n",
       "      <td>2937740</td>\n",
       "      <td>BreckT</td>\n",
       "      <td>560.0</td>\n",
       "      <td>44690.0</td>\n",
       "      <td>0.573465</td>\n",
       "      <td>4</td>\n",
       "    </tr>\n",
       "    <tr>\n",
       "      <th>4506</th>\n",
       "      <td>479918450</td>\n",
       "      <td>way</td>\n",
       "      <td>1</td>\n",
       "      <td>89.47</td>\n",
       "      <td>5</td>\n",
       "      <td>118.18</td>\n",
       "      <td>Pool</td>\n",
       "      <td>46768561</td>\n",
       "      <td>1489256353</td>\n",
       "      <td>5468658</td>\n",
       "      <td>Samuraisb</td>\n",
       "      <td>14.0</td>\n",
       "      <td>151.0</td>\n",
       "      <td>0.757065</td>\n",
       "      <td>4</td>\n",
       "    </tr>\n",
       "    <tr>\n",
       "      <th>12603</th>\n",
       "      <td>362156571</td>\n",
       "      <td>way</td>\n",
       "      <td>1</td>\n",
       "      <td>27142.87</td>\n",
       "      <td>13</td>\n",
       "      <td>59216.22</td>\n",
       "      <td>9870</td>\n",
       "      <td>32861233</td>\n",
       "      <td>1437773829</td>\n",
       "      <td>2937740</td>\n",
       "      <td>BreckT</td>\n",
       "      <td>560.0</td>\n",
       "      <td>44690.0</td>\n",
       "      <td>0.458369</td>\n",
       "      <td>4</td>\n",
       "    </tr>\n",
       "    <tr>\n",
       "      <th>12626</th>\n",
       "      <td>362158590</td>\n",
       "      <td>way</td>\n",
       "      <td>1</td>\n",
       "      <td>40947.08</td>\n",
       "      <td>21</td>\n",
       "      <td>94330.96</td>\n",
       "      <td>9870</td>\n",
       "      <td>32861564</td>\n",
       "      <td>1437774900</td>\n",
       "      <td>2937740</td>\n",
       "      <td>BreckT</td>\n",
       "      <td>560.0</td>\n",
       "      <td>44690.0</td>\n",
       "      <td>0.434079</td>\n",
       "      <td>4</td>\n",
       "    </tr>\n",
       "    <tr>\n",
       "      <th>9811</th>\n",
       "      <td>479624882</td>\n",
       "      <td>way</td>\n",
       "      <td>1</td>\n",
       "      <td>32322.97</td>\n",
       "      <td>10</td>\n",
       "      <td>78815.26</td>\n",
       "      <td>Lake</td>\n",
       "      <td>46726515</td>\n",
       "      <td>1489110685</td>\n",
       "      <td>5459043</td>\n",
       "      <td>M-Flow</td>\n",
       "      <td>6.0</td>\n",
       "      <td>887.0</td>\n",
       "      <td>0.410111</td>\n",
       "      <td>4</td>\n",
       "    </tr>\n",
       "    <tr>\n",
       "      <th>12628</th>\n",
       "      <td>362158597</td>\n",
       "      <td>way</td>\n",
       "      <td>1</td>\n",
       "      <td>13818.94</td>\n",
       "      <td>12</td>\n",
       "      <td>32056.07</td>\n",
       "      <td>9626</td>\n",
       "      <td>32861564</td>\n",
       "      <td>1437774900</td>\n",
       "      <td>2937740</td>\n",
       "      <td>BreckT</td>\n",
       "      <td>560.0</td>\n",
       "      <td>44690.0</td>\n",
       "      <td>0.431087</td>\n",
       "      <td>4</td>\n",
       "    </tr>\n",
       "  </tbody>\n",
       "</table>\n",
       "</div>"
      ],
      "text/plain": [
       "       feature_id feature_type  feature_version  feature_area  \\\n",
       "12490   361996659          way                1      13137.21   \n",
       "12625   362158588          way                1      67961.47   \n",
       "9855    480129915          way                1       3107.55   \n",
       "12546   361999981          way                1      39340.69   \n",
       "12532   361999959          way                1      22184.77   \n",
       "4506    479918450          way                1         89.47   \n",
       "12603   362156571          way                1      27142.87   \n",
       "12626   362158590          way                1      40947.08   \n",
       "9811    479624882          way                1      32322.97   \n",
       "12628   362158597          way                1      13818.94   \n",
       "\n",
       "       feature_coordinates  feature_bbox_area  name  changeset_id  \\\n",
       "12490                    8           17648.35  9641      32840832   \n",
       "12625                   26          128593.78  9783      32861564   \n",
       "9855                    17            4475.41  Lake      46801270   \n",
       "12546                   19           75200.59  9535      32841086   \n",
       "12532                   12           38685.51  9053      32841086   \n",
       "4506                     5             118.18  Pool      46768561   \n",
       "12603                   13           59216.22  9870      32861233   \n",
       "12626                   21           94330.96  9870      32861564   \n",
       "9811                    10           78815.26  Lake      46726515   \n",
       "12628                   12           32056.07  9626      32861564   \n",
       "\n",
       "       changeset_timestamp  user_id  user_name  user_changesets  \\\n",
       "12490           1437709429  2937740     BreckT            560.0   \n",
       "12625           1437774900  2937740     BreckT            560.0   \n",
       "9855            1489378117  5460013   Dean Sam              9.0   \n",
       "12546           1437712400  2937740     BreckT            560.0   \n",
       "12532           1437712398  2937740     BreckT            560.0   \n",
       "4506            1489256353  5468658  Samuraisb             14.0   \n",
       "12603           1437773829  2937740     BreckT            560.0   \n",
       "12626           1437774900  2937740     BreckT            560.0   \n",
       "9811            1489110685  5459043     M-Flow              6.0   \n",
       "12628           1437774900  2937740     BreckT            560.0   \n",
       "\n",
       "       user_features  feature_bbox_percentage  name_length  \n",
       "12490        44690.0                 0.744387            4  \n",
       "12625        44690.0                 0.528497            4  \n",
       "9855           533.0                 0.694361            4  \n",
       "12546        44690.0                 0.523143            4  \n",
       "12532        44690.0                 0.573465            4  \n",
       "4506           151.0                 0.757065            4  \n",
       "12603        44690.0                 0.458369            4  \n",
       "12626        44690.0                 0.434079            4  \n",
       "9811           887.0                 0.410111            4  \n",
       "12628        44690.0                 0.431087            4  "
      ]
     },
     "execution_count": 36,
     "metadata": {},
     "output_type": "execute_result"
    }
   ],
   "source": [
    "features[(features['name_length'] > 0) & (features['name_length'] < 5)].sort_index(by='name_length').sample(10)"
   ]
  },
  {
   "cell_type": "markdown",
   "metadata": {},
   "source": [
    "- Feaure: http://www.openstreetmap.org/way/469253887\n",
    "- A new user, [deered](http://www.openstreetmap.org/user/deered) with 2 changesets creates a lake with name \"`nope`\" with changeset comment \"`please ignore`\".\n",
    "- The satellite imagery shows no water body in the region\n",
    "\n",
    "<img width=\"1226\" alt=\"screen shot 2017-03-22 at 12 13 21 pm\" src=\"https://cloud.githubusercontent.com/assets/2899501/24185419/1989c3e4-0ef9-11e7-87fd-631c6ddbb562.png\">\n",
    "\n",
    "Another feature by the same user.\n",
    "- Feature: http://www.openstreetmap.org/way/125564093\n",
    "- The user added `natural=water`, `water=lake` and removed `tourism=hotel`, clearly some form of vandalism.\n",
    "<img width=\"1224\" alt=\"screen shot 2017-03-22 at 12 17 17 pm\" src=\"https://cloud.githubusercontent.com/assets/2899501/24185535/99360846-0ef9-11e7-98ca-2b438fcebd6f.png\">\n"
   ]
  },
  {
   "cell_type": "markdown",
   "metadata": {},
   "source": [
    "## What do the large names look like?"
   ]
  },
  {
   "cell_type": "code",
   "execution_count": 38,
   "metadata": {
    "collapsed": false
   },
   "outputs": [
    {
     "data": {
      "text/html": [
       "<div>\n",
       "<table border=\"1\" class=\"dataframe\">\n",
       "  <thead>\n",
       "    <tr style=\"text-align: right;\">\n",
       "      <th></th>\n",
       "      <th>feature_id</th>\n",
       "      <th>feature_type</th>\n",
       "      <th>feature_version</th>\n",
       "      <th>feature_area</th>\n",
       "      <th>feature_coordinates</th>\n",
       "      <th>feature_bbox_area</th>\n",
       "      <th>name</th>\n",
       "      <th>changeset_id</th>\n",
       "      <th>changeset_timestamp</th>\n",
       "      <th>user_id</th>\n",
       "      <th>user_name</th>\n",
       "      <th>user_changesets</th>\n",
       "      <th>user_features</th>\n",
       "      <th>feature_bbox_percentage</th>\n",
       "      <th>name_length</th>\n",
       "    </tr>\n",
       "  </thead>\n",
       "  <tbody>\n",
       "    <tr>\n",
       "      <th>216</th>\n",
       "      <td>229220656</td>\n",
       "      <td>way</td>\n",
       "      <td>1</td>\n",
       "      <td>61895.05</td>\n",
       "      <td>105</td>\n",
       "      <td>119450.22</td>\n",
       "      <td>Midlothian Creek Detention Reservoir</td>\n",
       "      <td>16879695</td>\n",
       "      <td>1373317748</td>\n",
       "      <td>518622</td>\n",
       "      <td>terremoto73</td>\n",
       "      <td>133.0</td>\n",
       "      <td>6507.0</td>\n",
       "      <td>0.518166</td>\n",
       "      <td>36</td>\n",
       "    </tr>\n",
       "    <tr>\n",
       "      <th>2684</th>\n",
       "      <td>394287292</td>\n",
       "      <td>way</td>\n",
       "      <td>1</td>\n",
       "      <td>88199.22</td>\n",
       "      <td>62</td>\n",
       "      <td>174971.51</td>\n",
       "      <td>Pottawatomie State Fishing Lake #1</td>\n",
       "      <td>36851214</td>\n",
       "      <td>1453965093</td>\n",
       "      <td>262151</td>\n",
       "      <td>ToeBee</td>\n",
       "      <td>2869.0</td>\n",
       "      <td>1862147.0</td>\n",
       "      <td>0.504078</td>\n",
       "      <td>34</td>\n",
       "    </tr>\n",
       "    <tr>\n",
       "      <th>4495</th>\n",
       "      <td>479537641</td>\n",
       "      <td>way</td>\n",
       "      <td>1</td>\n",
       "      <td>2080.24</td>\n",
       "      <td>27</td>\n",
       "      <td>4857.53</td>\n",
       "      <td>Forks Township Community Center Lake</td>\n",
       "      <td>46713366</td>\n",
       "      <td>1489075080</td>\n",
       "      <td>5180323</td>\n",
       "      <td>Thatsnotirony</td>\n",
       "      <td>9.0</td>\n",
       "      <td>669.0</td>\n",
       "      <td>0.428251</td>\n",
       "      <td>36</td>\n",
       "    </tr>\n",
       "    <tr>\n",
       "      <th>4524</th>\n",
       "      <td>482331824</td>\n",
       "      <td>way</td>\n",
       "      <td>1</td>\n",
       "      <td>73987.06</td>\n",
       "      <td>38</td>\n",
       "      <td>146434.99</td>\n",
       "      <td>Pocono Mountain Water Forest Lake</td>\n",
       "      <td>47110597</td>\n",
       "      <td>1490311930</td>\n",
       "      <td>5398684</td>\n",
       "      <td>Mike Lawlor</td>\n",
       "      <td>61.0</td>\n",
       "      <td>2855.0</td>\n",
       "      <td>0.505255</td>\n",
       "      <td>33</td>\n",
       "    </tr>\n",
       "    <tr>\n",
       "      <th>4602</th>\n",
       "      <td>226169237</td>\n",
       "      <td>way</td>\n",
       "      <td>1</td>\n",
       "      <td>44171.02</td>\n",
       "      <td>40</td>\n",
       "      <td>128468.94</td>\n",
       "      <td>Oconee State Park Lake Number Two</td>\n",
       "      <td>16597863</td>\n",
       "      <td>1371517724</td>\n",
       "      <td>1557531</td>\n",
       "      <td>stiri</td>\n",
       "      <td>47.0</td>\n",
       "      <td>2950.0</td>\n",
       "      <td>0.343826</td>\n",
       "      <td>33</td>\n",
       "    </tr>\n",
       "    <tr>\n",
       "      <th>7804</th>\n",
       "      <td>333354561</td>\n",
       "      <td>way</td>\n",
       "      <td>1</td>\n",
       "      <td>9314.00</td>\n",
       "      <td>72</td>\n",
       "      <td>25431.20</td>\n",
       "      <td>Smithfield Downs Golf Course Pond</td>\n",
       "      <td>29552214</td>\n",
       "      <td>1426630425</td>\n",
       "      <td>1505651</td>\n",
       "      <td>CynicalDooDad</td>\n",
       "      <td>4434.0</td>\n",
       "      <td>467993.0</td>\n",
       "      <td>0.366243</td>\n",
       "      <td>33</td>\n",
       "    </tr>\n",
       "    <tr>\n",
       "      <th>8406</th>\n",
       "      <td>391286307</td>\n",
       "      <td>way</td>\n",
       "      <td>1</td>\n",
       "      <td>185166.56</td>\n",
       "      <td>181</td>\n",
       "      <td>497604.30</td>\n",
       "      <td>Herrington Manor Recreation Area Reservoir</td>\n",
       "      <td>36560084</td>\n",
       "      <td>1452720730</td>\n",
       "      <td>247807</td>\n",
       "      <td>asciiphil</td>\n",
       "      <td>3573.0</td>\n",
       "      <td>2801326.0</td>\n",
       "      <td>0.372116</td>\n",
       "      <td>42</td>\n",
       "    </tr>\n",
       "    <tr>\n",
       "      <th>13210</th>\n",
       "      <td>385145884</td>\n",
       "      <td>way</td>\n",
       "      <td>1</td>\n",
       "      <td>1055.51</td>\n",
       "      <td>4</td>\n",
       "      <td>2176.57</td>\n",
       "      <td>Jerry Johnson Hotsprings main pools</td>\n",
       "      <td>35850906</td>\n",
       "      <td>1449683377</td>\n",
       "      <td>3437162</td>\n",
       "      <td>duluozbum</td>\n",
       "      <td>179.0</td>\n",
       "      <td>1466.0</td>\n",
       "      <td>0.484942</td>\n",
       "      <td>35</td>\n",
       "    </tr>\n",
       "  </tbody>\n",
       "</table>\n",
       "</div>"
      ],
      "text/plain": [
       "       feature_id feature_type  feature_version  feature_area  \\\n",
       "216     229220656          way                1      61895.05   \n",
       "2684    394287292          way                1      88199.22   \n",
       "4495    479537641          way                1       2080.24   \n",
       "4524    482331824          way                1      73987.06   \n",
       "4602    226169237          way                1      44171.02   \n",
       "7804    333354561          way                1       9314.00   \n",
       "8406    391286307          way                1     185166.56   \n",
       "13210   385145884          way                1       1055.51   \n",
       "\n",
       "       feature_coordinates  feature_bbox_area  \\\n",
       "216                    105          119450.22   \n",
       "2684                    62          174971.51   \n",
       "4495                    27            4857.53   \n",
       "4524                    38          146434.99   \n",
       "4602                    40          128468.94   \n",
       "7804                    72           25431.20   \n",
       "8406                   181          497604.30   \n",
       "13210                    4            2176.57   \n",
       "\n",
       "                                             name  changeset_id  \\\n",
       "216          Midlothian Creek Detention Reservoir      16879695   \n",
       "2684           Pottawatomie State Fishing Lake #1      36851214   \n",
       "4495         Forks Township Community Center Lake      46713366   \n",
       "4524            Pocono Mountain Water Forest Lake      47110597   \n",
       "4602            Oconee State Park Lake Number Two      16597863   \n",
       "7804            Smithfield Downs Golf Course Pond      29552214   \n",
       "8406   Herrington Manor Recreation Area Reservoir      36560084   \n",
       "13210         Jerry Johnson Hotsprings main pools      35850906   \n",
       "\n",
       "       changeset_timestamp  user_id      user_name  user_changesets  \\\n",
       "216             1373317748   518622    terremoto73            133.0   \n",
       "2684            1453965093   262151         ToeBee           2869.0   \n",
       "4495            1489075080  5180323  Thatsnotirony              9.0   \n",
       "4524            1490311930  5398684    Mike Lawlor             61.0   \n",
       "4602            1371517724  1557531          stiri             47.0   \n",
       "7804            1426630425  1505651  CynicalDooDad           4434.0   \n",
       "8406            1452720730   247807      asciiphil           3573.0   \n",
       "13210           1449683377  3437162      duluozbum            179.0   \n",
       "\n",
       "       user_features  feature_bbox_percentage  name_length  \n",
       "216           6507.0                 0.518166           36  \n",
       "2684       1862147.0                 0.504078           34  \n",
       "4495           669.0                 0.428251           36  \n",
       "4524          2855.0                 0.505255           33  \n",
       "4602          2950.0                 0.343826           33  \n",
       "7804        467993.0                 0.366243           33  \n",
       "8406       2801326.0                 0.372116           42  \n",
       "13210         1466.0                 0.484942           35  "
      ]
     },
     "execution_count": 38,
     "metadata": {},
     "output_type": "execute_result"
    }
   ],
   "source": [
    "features[features['name_length'] > 30].head(10)"
   ]
  },
  {
   "cell_type": "markdown",
   "metadata": {},
   "source": [
    "- Things looks good on the large names side. Yay!"
   ]
  },
  {
   "cell_type": "code",
   "execution_count": null,
   "metadata": {
    "collapsed": true
   },
   "outputs": [],
   "source": []
  },
  {
   "cell_type": "code",
   "execution_count": null,
   "metadata": {
    "collapsed": true
   },
   "outputs": [],
   "source": []
  },
  {
   "cell_type": "code",
   "execution_count": null,
   "metadata": {
    "collapsed": true
   },
   "outputs": [],
   "source": []
  },
  {
   "cell_type": "code",
   "execution_count": null,
   "metadata": {
    "collapsed": true
   },
   "outputs": [],
   "source": []
  },
  {
   "cell_type": "code",
   "execution_count": null,
   "metadata": {
    "collapsed": true
   },
   "outputs": [],
   "source": []
  },
  {
   "cell_type": "code",
   "execution_count": 23,
   "metadata": {
    "collapsed": false
   },
   "outputs": [
    {
     "ename": "AssertionError",
     "evalue": "",
     "output_type": "error",
     "traceback": [
      "\u001b[0;31m---------------------------------------------------------------------------\u001b[0m",
      "\u001b[0;31mAssertionError\u001b[0m                            Traceback (most recent call last)",
      "\u001b[0;32m<ipython-input-23-6e6df518a476>\u001b[0m in \u001b[0;36m<module>\u001b[0;34m()\u001b[0m\n\u001b[0;32m----> 1\u001b[0;31m \u001b[0;32massert\u001b[0m \u001b[0;32mFalse\u001b[0m\u001b[0;34m\u001b[0m\u001b[0m\n\u001b[0m",
      "\u001b[0;31mAssertionError\u001b[0m: "
     ]
    }
   ],
   "source": [
    "assert False"
   ]
  },
  {
   "cell_type": "markdown",
   "metadata": {},
   "source": [
    "# Exploratory data analysis"
   ]
  },
  {
   "cell_type": "code",
   "execution_count": null,
   "metadata": {
    "collapsed": false
   },
   "outputs": [],
   "source": [
    "sns.pairplot(numerical_features)"
   ]
  },
  {
   "cell_type": "markdown",
   "metadata": {},
   "source": [
    "# Outlier Detection"
   ]
  },
  {
   "cell_type": "code",
   "execution_count": null,
   "metadata": {
    "collapsed": false
   },
   "outputs": [],
   "source": [
    "# Scaling features before training the classifier\n",
    "scaler = preprocessing.StandardScaler().fit(numerical_features)\n",
    "numerical_features = pd.DataFrame(scaler.transform(numerical_features), columns=numericals)\n",
    "numerical_features.head()"
   ]
  },
  {
   "cell_type": "code",
   "execution_count": null,
   "metadata": {
    "collapsed": false
   },
   "outputs": [],
   "source": [
    "# Training the classifier\n",
    "clf = ensemble.IsolationForest()\n",
    "clf.fit(numerical_features)\n",
    "clf"
   ]
  },
  {
   "cell_type": "code",
   "execution_count": null,
   "metadata": {
    "collapsed": false
   },
   "outputs": [],
   "source": [
    "def get_prediction(item):\n",
    "    return clf.predict(scaler.transform([item[numericals]]))\n",
    "\n",
    "features['prediction'] = features[numericals].dropna().apply(get_prediction, axis=1)['feature_area']\n",
    "\n",
    "print('Total: {}'.format(features.shape[0]))\n",
    "print('Number of outliers: {}'.format(features[features['prediction'] == -1].shape[0]))\n",
    "print('Number of inliers: {}'.format(features[features['prediction'] == 1].shape[0]))"
   ]
  },
  {
   "cell_type": "markdown",
   "metadata": {},
   "source": [
    "- NOTE: 10% of features are detected as outliers which is interesting.\n",
    "- Basically, the algorithm thinks these features are different from the rest after looking at all the parameters."
   ]
  },
  {
   "cell_type": "code",
   "execution_count": null,
   "metadata": {
    "collapsed": false
   },
   "outputs": [],
   "source": [
    "features[features['prediction'] == -1].drop_duplicates('feature_id').head()"
   ]
  }
 ],
 "metadata": {
  "anaconda-cloud": {},
  "kernelspec": {
   "display_name": "Python [conda root]",
   "language": "python",
   "name": "conda-root-py"
  },
  "language_info": {
   "codemirror_mode": {
    "name": "ipython",
    "version": 3
   },
   "file_extension": ".py",
   "mimetype": "text/x-python",
   "name": "python",
   "nbconvert_exporter": "python",
   "pygments_lexer": "ipython3",
   "version": "3.5.2"
  }
 },
 "nbformat": 4,
 "nbformat_minor": 2
}
